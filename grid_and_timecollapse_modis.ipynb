{
 "cells": [
  {
   "cell_type": "code",
   "execution_count": 23,
   "metadata": {},
   "outputs": [],
   "source": [
    "import numpy as np\n",
    "import matplotlib.pyplot as plt\n",
    "import os\n",
    "import glob\n",
    "import copy\n",
    "import sys\n",
    "import datetime\n",
    "import iris\n",
    "from pyhdf.SD import SD, SDC\n",
    "import time\n",
    "from cis.data_io.gridded_data import GriddedDataList\n",
    "\n",
    "os.environ['CIS_PLUGIN_HOME'] = '/home/users/pete_nut/plugins/'\n",
    "from cis import read_data, read_data_list, get_variables\n",
    "\n",
    "#function that checks a list of files for overlap \n",
    "#with the coordinate interval lat=[-35,0], lon=[-90,-70]\n",
    "#and deletes the filenames without overlap\n",
    "\n",
    "def delete_no_overlap(filelist):\n",
    "    delfiles=[]\n",
    "    for filename in filelist:\n",
    "        #print(filename)\n",
    "        dataset = SD(filename, SDC.READ)\n",
    "        lats = dataset.select('Latitude').get()\n",
    "        lons = dataset.select('Longitude').get()\n",
    "        #print(lats.min(), lats.max(), lons.min(), lons.max())\n",
    "        if (lats.max() < -35.  or lats.min() > 0 or lons.max() < -90 or lons.min() > -70 or lons.max()>170 ):\n",
    "            #print(filename)\n",
    "            delfiles.append(filename)\n",
    "        #else: print(filename)\n",
    "    \n",
    "    for filename in delfiles:\n",
    "        filelist.remove(filename)\n",
    "    return filelist\n",
    "\n",
    "months=['00','01','02','03','04','05','06','07','08','09','10','11','12']\n",
    "modis_year = '2018'\n",
    "modis_dir = '/neodc/modis/data/MYD06_L2/collection61/{}/{}/{}/'\n",
    "modis_month = months[9]\n",
    "\n",
    "days=['01','02','03','04','05','06','07','08','09',\n",
    "      '10','11','12','13','14','15','16','17','18','19',\n",
    "      '20','21','22','23','24','25','26','27','28','29', '30','31']\n"
   ]
  },
  {
   "cell_type": "code",
   "execution_count": 24,
   "metadata": {},
   "outputs": [],
   "source": [
    "modis_day='08'\n",
    "modis_daily = sorted(glob.glob(modis_dir.format(modis_year, modis_month, modis_day) + '*.hdf'))\n",
    "end_day = glob.glob(modis_dir.format(modis_year, modis_month, modis_day) + '*.2355.*.hdf')[0]\n",
    "end_day = modis_daily.index(end_day)\n",
    "start_time=glob.glob(modis_dir.format(modis_year, modis_month, modis_day) + '*.1500.*.hdf')[0]\n",
    "start_time=modis_daily.index(start_time)\n",
    "modis_daily = modis_daily[start_time:end_day]\n",
    "modis_daily=delete_no_overlap(modis_daily)"
   ]
  },
  {
   "cell_type": "code",
   "execution_count": 26,
   "metadata": {},
   "outputs": [],
   "source": [
    "rad=get_variables(modis_daily[0], product='MODIS_L2')"
   ]
  },
  {
   "cell_type": "code",
   "execution_count": 30,
   "metadata": {},
   "outputs": [
    {
     "data": {
      "text/plain": [
       "['/neodc/modis/data/MYD06_L2/collection61/2018/09/08/MYD06_L2.A2018251.1510.061.2018252160608.hdf',\n",
       " '/neodc/modis/data/MYD06_L2/collection61/2018/09/08/MYD06_L2.A2018251.1820.061.2018252161035.hdf',\n",
       " '/neodc/modis/data/MYD06_L2/collection61/2018/09/08/MYD06_L2.A2018251.1825.061.2018252161338.hdf',\n",
       " '/neodc/modis/data/MYD06_L2/collection61/2018/09/08/MYD06_L2.A2018251.1830.061.2018252161801.hdf',\n",
       " '/neodc/modis/data/MYD06_L2/collection61/2018/09/08/MYD06_L2.A2018251.2000.061.2018252162338.hdf',\n",
       " '/neodc/modis/data/MYD06_L2/collection61/2018/09/08/MYD06_L2.A2018251.2005.061.2018252161039.hdf',\n",
       " '/neodc/modis/data/MYD06_L2/collection61/2018/09/08/MYD06_L2.A2018251.2010.061.2018252162400.hdf']"
      ]
     },
     "execution_count": 30,
     "metadata": {},
     "output_type": "execute_result"
    }
   ],
   "source": [
    "modis_daily"
   ]
  },
  {
   "cell_type": "code",
   "execution_count": 28,
   "metadata": {},
   "outputs": [
    {
     "ename": "ValueError",
     "evalue": "No format specification could be found for the given buffer. File element cache:\n {'UriProtocol()': 'file', 'LeadingLine()': 'b\\'\\\\x0e\\\\x03\\\\x13\\\\x01\\\\x00\\\\x10\\\\x00\\\\x0b\"\\\\xba\\\\x00\\\\x1e\\\\x0...', 'MagicNumber(4, None)': '235082497', 'MagicNumber(8, None)': '1009671636478066699', 'FileExtension()': '.hdf', 'MagicNumber(100, None)': 'b\\'\\\\x0e\\\\x03\\\\x13\\\\x01\\\\x00\\\\x10\\\\x00\\\\x0b\"\\\\xba\\\\x00\\\\x1e\\\\x0...'}",
     "output_type": "error",
     "traceback": [
      "\u001b[0;31m---------------------------------------------------------------------------\u001b[0m",
      "\u001b[0;31mValueError\u001b[0m                                Traceback (most recent call last)",
      "\u001b[0;32m<ipython-input-28-b06d5ab85792>\u001b[0m in \u001b[0;36m<module>\u001b[0;34m\u001b[0m\n\u001b[0;32m----> 1\u001b[0;31m \u001b[0ms\u001b[0m\u001b[0;34m=\u001b[0m\u001b[0miris\u001b[0m\u001b[0;34m.\u001b[0m\u001b[0mload\u001b[0m\u001b[0;34m(\u001b[0m\u001b[0mmodis_daily\u001b[0m\u001b[0;34m[\u001b[0m\u001b[0;36m0\u001b[0m\u001b[0;34m]\u001b[0m\u001b[0;34m)\u001b[0m\u001b[0;34m\u001b[0m\u001b[0;34m\u001b[0m\u001b[0m\n\u001b[0m",
      "\u001b[0;32m~/miniconda3/lib/python3.8/site-packages/iris/__init__.py\u001b[0m in \u001b[0;36mload\u001b[0;34m(uris, constraints, callback)\u001b[0m\n\u001b[1;32m    355\u001b[0m \u001b[0;34m\u001b[0m\u001b[0m\n\u001b[1;32m    356\u001b[0m     \"\"\"\n\u001b[0;32m--> 357\u001b[0;31m     \u001b[0;32mreturn\u001b[0m \u001b[0m_load_collection\u001b[0m\u001b[0;34m(\u001b[0m\u001b[0muris\u001b[0m\u001b[0;34m,\u001b[0m \u001b[0mconstraints\u001b[0m\u001b[0;34m,\u001b[0m \u001b[0mcallback\u001b[0m\u001b[0;34m)\u001b[0m\u001b[0;34m.\u001b[0m\u001b[0mmerged\u001b[0m\u001b[0;34m(\u001b[0m\u001b[0;34m)\u001b[0m\u001b[0;34m.\u001b[0m\u001b[0mcubes\u001b[0m\u001b[0;34m(\u001b[0m\u001b[0;34m)\u001b[0m\u001b[0;34m\u001b[0m\u001b[0;34m\u001b[0m\u001b[0m\n\u001b[0m\u001b[1;32m    358\u001b[0m \u001b[0;34m\u001b[0m\u001b[0m\n\u001b[1;32m    359\u001b[0m \u001b[0;34m\u001b[0m\u001b[0m\n",
      "\u001b[0;32m~/miniconda3/lib/python3.8/site-packages/iris/__init__.py\u001b[0m in \u001b[0;36m_load_collection\u001b[0;34m(uris, constraints, callback)\u001b[0m\n\u001b[1;32m    323\u001b[0m     \u001b[0;32mtry\u001b[0m\u001b[0;34m:\u001b[0m\u001b[0;34m\u001b[0m\u001b[0;34m\u001b[0m\u001b[0m\n\u001b[1;32m    324\u001b[0m         \u001b[0mcubes\u001b[0m \u001b[0;34m=\u001b[0m \u001b[0m_generate_cubes\u001b[0m\u001b[0;34m(\u001b[0m\u001b[0muris\u001b[0m\u001b[0;34m,\u001b[0m \u001b[0mcallback\u001b[0m\u001b[0;34m,\u001b[0m \u001b[0mconstraints\u001b[0m\u001b[0;34m)\u001b[0m\u001b[0;34m\u001b[0m\u001b[0;34m\u001b[0m\u001b[0m\n\u001b[0;32m--> 325\u001b[0;31m         \u001b[0mresult\u001b[0m \u001b[0;34m=\u001b[0m \u001b[0miris\u001b[0m\u001b[0;34m.\u001b[0m\u001b[0mcube\u001b[0m\u001b[0;34m.\u001b[0m\u001b[0m_CubeFilterCollection\u001b[0m\u001b[0;34m.\u001b[0m\u001b[0mfrom_cubes\u001b[0m\u001b[0;34m(\u001b[0m\u001b[0mcubes\u001b[0m\u001b[0;34m,\u001b[0m \u001b[0mconstraints\u001b[0m\u001b[0;34m)\u001b[0m\u001b[0;34m\u001b[0m\u001b[0;34m\u001b[0m\u001b[0m\n\u001b[0m\u001b[1;32m    326\u001b[0m     \u001b[0;32mexcept\u001b[0m \u001b[0mEOFError\u001b[0m \u001b[0;32mas\u001b[0m \u001b[0me\u001b[0m\u001b[0;34m:\u001b[0m\u001b[0;34m\u001b[0m\u001b[0;34m\u001b[0m\u001b[0m\n\u001b[1;32m    327\u001b[0m         raise iris.exceptions.TranslationError(\n",
      "\u001b[0;32m~/miniconda3/lib/python3.8/site-packages/iris/cube.py\u001b[0m in \u001b[0;36mfrom_cubes\u001b[0;34m(cubes, constraints)\u001b[0m\n\u001b[1;32m    155\u001b[0m         \u001b[0mpairs\u001b[0m \u001b[0;34m=\u001b[0m \u001b[0;34m[\u001b[0m\u001b[0m_CubeFilter\u001b[0m\u001b[0;34m(\u001b[0m\u001b[0mconstraint\u001b[0m\u001b[0;34m)\u001b[0m \u001b[0;32mfor\u001b[0m \u001b[0mconstraint\u001b[0m \u001b[0;32min\u001b[0m \u001b[0mconstraints\u001b[0m\u001b[0;34m]\u001b[0m\u001b[0;34m\u001b[0m\u001b[0;34m\u001b[0m\u001b[0m\n\u001b[1;32m    156\u001b[0m         \u001b[0mcollection\u001b[0m \u001b[0;34m=\u001b[0m \u001b[0m_CubeFilterCollection\u001b[0m\u001b[0;34m(\u001b[0m\u001b[0mpairs\u001b[0m\u001b[0;34m)\u001b[0m\u001b[0;34m\u001b[0m\u001b[0;34m\u001b[0m\u001b[0m\n\u001b[0;32m--> 157\u001b[0;31m         \u001b[0;32mfor\u001b[0m \u001b[0mcube\u001b[0m \u001b[0;32min\u001b[0m \u001b[0mcubes\u001b[0m\u001b[0;34m:\u001b[0m\u001b[0;34m\u001b[0m\u001b[0;34m\u001b[0m\u001b[0m\n\u001b[0m\u001b[1;32m    158\u001b[0m             \u001b[0mcollection\u001b[0m\u001b[0;34m.\u001b[0m\u001b[0madd_cube\u001b[0m\u001b[0;34m(\u001b[0m\u001b[0mcube\u001b[0m\u001b[0;34m)\u001b[0m\u001b[0;34m\u001b[0m\u001b[0;34m\u001b[0m\u001b[0m\n\u001b[1;32m    159\u001b[0m         \u001b[0;32mreturn\u001b[0m \u001b[0mcollection\u001b[0m\u001b[0;34m\u001b[0m\u001b[0;34m\u001b[0m\u001b[0m\n",
      "\u001b[0;32m~/miniconda3/lib/python3.8/site-packages/iris/__init__.py\u001b[0m in \u001b[0;36m_generate_cubes\u001b[0;34m(uris, callback, constraints)\u001b[0m\n\u001b[1;32m    310\u001b[0m         \u001b[0;32mif\u001b[0m \u001b[0mscheme\u001b[0m \u001b[0;34m==\u001b[0m \u001b[0;34m'file'\u001b[0m\u001b[0;34m:\u001b[0m\u001b[0;34m\u001b[0m\u001b[0;34m\u001b[0m\u001b[0m\n\u001b[1;32m    311\u001b[0m             \u001b[0mpart_names\u001b[0m \u001b[0;34m=\u001b[0m \u001b[0;34m[\u001b[0m\u001b[0mx\u001b[0m\u001b[0;34m[\u001b[0m\u001b[0;36m1\u001b[0m\u001b[0;34m]\u001b[0m \u001b[0;32mfor\u001b[0m \u001b[0mx\u001b[0m \u001b[0;32min\u001b[0m \u001b[0mgroups\u001b[0m\u001b[0;34m]\u001b[0m\u001b[0;34m\u001b[0m\u001b[0;34m\u001b[0m\u001b[0m\n\u001b[0;32m--> 312\u001b[0;31m             \u001b[0;32mfor\u001b[0m \u001b[0mcube\u001b[0m \u001b[0;32min\u001b[0m \u001b[0miris\u001b[0m\u001b[0;34m.\u001b[0m\u001b[0mio\u001b[0m\u001b[0;34m.\u001b[0m\u001b[0mload_files\u001b[0m\u001b[0;34m(\u001b[0m\u001b[0mpart_names\u001b[0m\u001b[0;34m,\u001b[0m \u001b[0mcallback\u001b[0m\u001b[0;34m,\u001b[0m \u001b[0mconstraints\u001b[0m\u001b[0;34m)\u001b[0m\u001b[0;34m:\u001b[0m\u001b[0;34m\u001b[0m\u001b[0;34m\u001b[0m\u001b[0m\n\u001b[0m\u001b[1;32m    313\u001b[0m                 \u001b[0;32myield\u001b[0m \u001b[0mcube\u001b[0m\u001b[0;34m\u001b[0m\u001b[0;34m\u001b[0m\u001b[0m\n\u001b[1;32m    314\u001b[0m         \u001b[0;32melif\u001b[0m \u001b[0mscheme\u001b[0m \u001b[0;32min\u001b[0m \u001b[0;34m[\u001b[0m\u001b[0;34m'http'\u001b[0m\u001b[0;34m,\u001b[0m \u001b[0;34m'https'\u001b[0m\u001b[0;34m]\u001b[0m\u001b[0;34m:\u001b[0m\u001b[0;34m\u001b[0m\u001b[0;34m\u001b[0m\u001b[0m\n",
      "\u001b[0;32m~/miniconda3/lib/python3.8/site-packages/iris/io/__init__.py\u001b[0m in \u001b[0;36mload_files\u001b[0;34m(filenames, callback, constraints)\u001b[0m\n\u001b[1;32m    197\u001b[0m     \u001b[0;32mfor\u001b[0m \u001b[0mfn\u001b[0m \u001b[0;32min\u001b[0m \u001b[0mall_file_paths\u001b[0m\u001b[0;34m:\u001b[0m\u001b[0;34m\u001b[0m\u001b[0;34m\u001b[0m\u001b[0m\n\u001b[1;32m    198\u001b[0m         \u001b[0;32mwith\u001b[0m \u001b[0mopen\u001b[0m\u001b[0;34m(\u001b[0m\u001b[0mfn\u001b[0m\u001b[0;34m,\u001b[0m \u001b[0;34m'rb'\u001b[0m\u001b[0;34m)\u001b[0m \u001b[0;32mas\u001b[0m \u001b[0mfh\u001b[0m\u001b[0;34m:\u001b[0m\u001b[0;34m\u001b[0m\u001b[0;34m\u001b[0m\u001b[0m\n\u001b[0;32m--> 199\u001b[0;31m             \u001b[0mhandling_format_spec\u001b[0m \u001b[0;34m=\u001b[0m \u001b[0miris\u001b[0m\u001b[0;34m.\u001b[0m\u001b[0mfileformats\u001b[0m\u001b[0;34m.\u001b[0m\u001b[0mFORMAT_AGENT\u001b[0m\u001b[0;34m.\u001b[0m\u001b[0mget_spec\u001b[0m\u001b[0;34m(\u001b[0m\u001b[0mos\u001b[0m\u001b[0;34m.\u001b[0m\u001b[0mpath\u001b[0m\u001b[0;34m.\u001b[0m\u001b[0mbasename\u001b[0m\u001b[0;34m(\u001b[0m\u001b[0mfn\u001b[0m\u001b[0;34m)\u001b[0m\u001b[0;34m,\u001b[0m \u001b[0mfh\u001b[0m\u001b[0;34m)\u001b[0m\u001b[0;34m\u001b[0m\u001b[0;34m\u001b[0m\u001b[0m\n\u001b[0m\u001b[1;32m    200\u001b[0m             \u001b[0mhandler_map\u001b[0m\u001b[0;34m[\u001b[0m\u001b[0mhandling_format_spec\u001b[0m\u001b[0;34m]\u001b[0m\u001b[0;34m.\u001b[0m\u001b[0mappend\u001b[0m\u001b[0;34m(\u001b[0m\u001b[0mfn\u001b[0m\u001b[0;34m)\u001b[0m\u001b[0;34m\u001b[0m\u001b[0;34m\u001b[0m\u001b[0m\n\u001b[1;32m    201\u001b[0m \u001b[0;34m\u001b[0m\u001b[0m\n",
      "\u001b[0;32m~/miniconda3/lib/python3.8/site-packages/iris/io/format_picker.py\u001b[0m in \u001b[0;36mget_spec\u001b[0;34m(self, basename, buffer_obj)\u001b[0m\n\u001b[1;32m    153\u001b[0m         msg = ('No format specification could be found for the given buffer.'\n\u001b[1;32m    154\u001b[0m                ' File element cache:\\n {}'.format(printable_values))\n\u001b[0;32m--> 155\u001b[0;31m         \u001b[0;32mraise\u001b[0m \u001b[0mValueError\u001b[0m\u001b[0;34m(\u001b[0m\u001b[0mmsg\u001b[0m\u001b[0;34m)\u001b[0m\u001b[0;34m\u001b[0m\u001b[0;34m\u001b[0m\u001b[0m\n\u001b[0m\u001b[1;32m    156\u001b[0m \u001b[0;34m\u001b[0m\u001b[0m\n\u001b[1;32m    157\u001b[0m \u001b[0;34m\u001b[0m\u001b[0m\n",
      "\u001b[0;31mValueError\u001b[0m: No format specification could be found for the given buffer. File element cache:\n {'UriProtocol()': 'file', 'LeadingLine()': 'b\\'\\\\x0e\\\\x03\\\\x13\\\\x01\\\\x00\\\\x10\\\\x00\\\\x0b\"\\\\xba\\\\x00\\\\x1e\\\\x0...', 'MagicNumber(4, None)': '235082497', 'MagicNumber(8, None)': '1009671636478066699', 'FileExtension()': '.hdf', 'MagicNumber(100, None)': 'b\\'\\\\x0e\\\\x03\\\\x13\\\\x01\\\\x00\\\\x10\\\\x00\\\\x0b\"\\\\xba\\\\x00\\\\x1e\\\\x0...'}"
     ]
    }
   ],
   "source": [
    "s=iris.load(modis_daily[0])"
   ]
  },
  {
   "cell_type": "code",
   "execution_count": 20,
   "metadata": {},
   "outputs": [
    {
     "data": {
      "text/plain": [
       "<pyhdf.SD.SD at 0x7f66e07f2f40>"
      ]
     },
     "execution_count": 20,
     "metadata": {},
     "output_type": "execute_result"
    }
   ],
   "source": []
  },
  {
   "cell_type": "code",
   "execution_count": 17,
   "metadata": {},
   "outputs": [
    {
     "ename": "ClassNotFoundError",
     "evalue": "Product cannot be found for given file.\nSupported products and signatures are:\ncis: ['.*\\\\.nc']\nNCAR_NetCDF_RAF: ['.*\\\\.nc$']\nASCII_Hyperpoints: ['.*\\\\.txt']\nAeronet: ['.*\\\\.lev20', '.*\\\\.ONEILL_lev20', '.*\\\\.ONEILL_20', '.*\\\\.lev15', '.*\\\\.ONEILL_lev15', '.*\\\\.ONEILL_15', '.*All_Sites_Times.*dat', '.*\\\\.all']\nAerosol_CCI_L2: ['.*ESACCI-L2P_AEROSOL.*']\nAerosol_CCI_L3: ['.*ESACCI-L3C_AEROSOL.*nc']\nCaliop_L1: ['CAL_LID_L1.*hdf']\nCaliop_L2: ['CAL_LID_L2_05kmAPro.*hdf']\nCaliop_L2_NO_PRESSURE: ['CAL_LID_L2_05kmAPro.*hdf']\nCloudSat: ['.*_CS_.*GRANULE.*\\\\.hdf']\nCloud_CCI_L2: ['.*ESACCI-L2_CLOUD.*']\nCloud_CCI_L3: ['.*ESACCI-L3C_CLOUD.*nc', '.*ESACCI-L3U_CLOUD.*nc']\nHadGEM_CONVSH: ['[a-z]{6}[\\\\._][pamd]{2}[0-9]{4,6}.*\\\\.nc']\nHadGEM_PP: ['.*\\\\.pp']\nMODIS_L2: ['.*MYD06_L2.*\\\\.hdf', '.*MOD06_L2.*\\\\.hdf', '.*MYD04_L2.*\\\\.hdf', '.*MOD04_L2.*\\\\.hdf']\nMODIS_L2: ['.*MYD06_L2.*\\\\.hdf', '.*MOD06_L2.*\\\\.hdf', '.*MYD04_L2.*\\\\.hdf', '.*MOD04_L2.*\\\\.hdf']\nMODIS_L3: ['.*MYD08_D3.*\\\\.hdf', '.*MOD08_D3.*\\\\.hdf', '.*MYD08_M3.*\\\\.hdf', '.*MOD08_M3.*\\\\.hdf', '.*MOD08_E3.*\\\\.hdf']\nNetCDF_Gridded: ['.*\\\\.nc']\nMOD06_HACK: ['.*MYD06_L2.*\\\\.hdf', '.*MOD06_L2.*\\\\.hdf', '.*MYD04_L2.*\\\\.hdf', '.*MOD04_L2.*\\\\.hdf']\n",
     "output_type": "error",
     "traceback": [
      "\u001b[0;31m---------------------------------------------------------------------------\u001b[0m",
      "\u001b[0;31mClassNotFoundError\u001b[0m                        Traceback (most recent call last)",
      "\u001b[0;32m<ipython-input-17-51a55beeef49>\u001b[0m in \u001b[0;36m<module>\u001b[0;34m\u001b[0m\n\u001b[1;32m      1\u001b[0m \u001b[0;31m#get data, need to do seperately because of different resolution\u001b[0m\u001b[0;34m\u001b[0m\u001b[0;34m\u001b[0m\u001b[0;34m\u001b[0m\u001b[0m\n\u001b[0;32m----> 2\u001b[0;31m mod_hr=read_data_list(modis_daily,\n\u001b[0m\u001b[1;32m      3\u001b[0m                    ['SensorZenith',\n\u001b[1;32m      4\u001b[0m                     'SolarZenith'])\n",
      "\u001b[0;32m~/miniconda3/lib/python3.8/site-packages/cis/__init__.py\u001b[0m in \u001b[0;36mread_data_list\u001b[0;34m(filenames, variables, product, aliases)\u001b[0m\n\u001b[1;32m     68\u001b[0m     \u001b[0;32mif\u001b[0m \u001b[0mlen\u001b[0m\u001b[0;34m(\u001b[0m\u001b[0mfile_set\u001b[0m\u001b[0;34m)\u001b[0m \u001b[0;34m==\u001b[0m \u001b[0;36m0\u001b[0m\u001b[0;34m:\u001b[0m\u001b[0;34m\u001b[0m\u001b[0;34m\u001b[0m\u001b[0m\n\u001b[1;32m     69\u001b[0m         \u001b[0;32mraise\u001b[0m \u001b[0mIOError\u001b[0m\u001b[0;34m(\u001b[0m\u001b[0;34m\"No files found which match: {}\"\u001b[0m\u001b[0;34m.\u001b[0m\u001b[0mformat\u001b[0m\u001b[0;34m(\u001b[0m\u001b[0mfilenames\u001b[0m\u001b[0;34m)\u001b[0m\u001b[0;34m)\u001b[0m\u001b[0;34m\u001b[0m\u001b[0;34m\u001b[0m\u001b[0m\n\u001b[0;32m---> 70\u001b[0;31m     \u001b[0;32mreturn\u001b[0m \u001b[0mDataReader\u001b[0m\u001b[0;34m(\u001b[0m\u001b[0;34m)\u001b[0m\u001b[0;34m.\u001b[0m\u001b[0mread_data_list\u001b[0m\u001b[0;34m(\u001b[0m\u001b[0mfile_set\u001b[0m\u001b[0;34m,\u001b[0m \u001b[0mvariables\u001b[0m\u001b[0;34m,\u001b[0m \u001b[0mproduct\u001b[0m\u001b[0;34m,\u001b[0m \u001b[0maliases\u001b[0m\u001b[0;34m)\u001b[0m\u001b[0;34m\u001b[0m\u001b[0;34m\u001b[0m\u001b[0m\n\u001b[0m\u001b[1;32m     71\u001b[0m \u001b[0;34m\u001b[0m\u001b[0m\n\u001b[1;32m     72\u001b[0m \u001b[0;34m\u001b[0m\u001b[0m\n",
      "\u001b[0;32m~/miniconda3/lib/python3.8/site-packages/cis/data_io/data_reader.py\u001b[0m in \u001b[0;36mread_data_list\u001b[0;34m(self, filenames, variables, product, aliases)\u001b[0m\n\u001b[1;32m     88\u001b[0m         \u001b[0mdata_list\u001b[0m \u001b[0;34m=\u001b[0m \u001b[0;32mNone\u001b[0m\u001b[0;34m\u001b[0m\u001b[0;34m\u001b[0m\u001b[0m\n\u001b[1;32m     89\u001b[0m         \u001b[0;32mfor\u001b[0m \u001b[0midx\u001b[0m\u001b[0;34m,\u001b[0m \u001b[0mvariable\u001b[0m \u001b[0;32min\u001b[0m \u001b[0menumerate\u001b[0m\u001b[0;34m(\u001b[0m\u001b[0mvariables\u001b[0m\u001b[0;34m)\u001b[0m\u001b[0;34m:\u001b[0m\u001b[0;34m\u001b[0m\u001b[0;34m\u001b[0m\u001b[0m\n\u001b[0;32m---> 90\u001b[0;31m             \u001b[0mvar_data\u001b[0m \u001b[0;34m=\u001b[0m \u001b[0mself\u001b[0m\u001b[0;34m.\u001b[0m\u001b[0m_get_data_func\u001b[0m\u001b[0;34m(\u001b[0m\u001b[0mfilenames\u001b[0m\u001b[0;34m,\u001b[0m \u001b[0mvariable\u001b[0m\u001b[0;34m,\u001b[0m \u001b[0mproduct\u001b[0m\u001b[0;34m)\u001b[0m\u001b[0;34m\u001b[0m\u001b[0;34m\u001b[0m\u001b[0m\n\u001b[0m\u001b[1;32m     91\u001b[0m             \u001b[0mvar_data\u001b[0m\u001b[0;34m.\u001b[0m\u001b[0mfilenames\u001b[0m \u001b[0;34m=\u001b[0m \u001b[0mfilenames\u001b[0m\u001b[0;34m\u001b[0m\u001b[0;34m\u001b[0m\u001b[0m\n\u001b[1;32m     92\u001b[0m             \u001b[0;32mif\u001b[0m \u001b[0maliases\u001b[0m\u001b[0;34m:\u001b[0m\u001b[0;34m\u001b[0m\u001b[0;34m\u001b[0m\u001b[0m\n",
      "\u001b[0;32m~/miniconda3/lib/python3.8/site-packages/cis/data_io/products/AProduct.py\u001b[0m in \u001b[0;36mget_data\u001b[0;34m(filenames, variable, product)\u001b[0m\n\u001b[1;32m    191\u001b[0m     \u001b[0;34m:\u001b[0m\u001b[0;32mreturn\u001b[0m\u001b[0;34m:\u001b[0m \u001b[0mA\u001b[0m \u001b[0;34m:\u001b[0m\u001b[0;32mclass\u001b[0m\u001b[0;34m:\u001b[0m\u001b[0;31m`\u001b[0m\u001b[0;34m.\u001b[0m\u001b[0mCommonData\u001b[0m\u001b[0;31m`\u001b[0m \u001b[0mvariable\u001b[0m\u001b[0;34m\u001b[0m\u001b[0;34m\u001b[0m\u001b[0m\n\u001b[1;32m    192\u001b[0m     \"\"\"\n\u001b[0;32m--> 193\u001b[0;31m     \u001b[0mproduct_cls\u001b[0m \u001b[0;34m=\u001b[0m \u001b[0m__get_class\u001b[0m\u001b[0;34m(\u001b[0m\u001b[0mfilenames\u001b[0m\u001b[0;34m[\u001b[0m\u001b[0;36m0\u001b[0m\u001b[0;34m]\u001b[0m\u001b[0;34m,\u001b[0m \u001b[0mproduct\u001b[0m\u001b[0;34m)\u001b[0m\u001b[0;34m\u001b[0m\u001b[0;34m\u001b[0m\u001b[0m\n\u001b[0m\u001b[1;32m    194\u001b[0m \u001b[0;34m\u001b[0m\u001b[0m\n\u001b[1;32m    195\u001b[0m     \u001b[0mlogging\u001b[0m\u001b[0;34m.\u001b[0m\u001b[0minfo\u001b[0m\u001b[0;34m(\u001b[0m\u001b[0;34m\"Retrieving data using product \"\u001b[0m \u001b[0;34m+\u001b[0m \u001b[0mproduct_cls\u001b[0m\u001b[0;34m.\u001b[0m\u001b[0m__name__\u001b[0m \u001b[0;34m+\u001b[0m \u001b[0;34m\"...\"\u001b[0m\u001b[0;34m)\u001b[0m\u001b[0;34m\u001b[0m\u001b[0;34m\u001b[0m\u001b[0m\n",
      "\u001b[0;32m~/miniconda3/lib/python3.8/site-packages/cis/data_io/products/AProduct.py\u001b[0m in \u001b[0;36m__get_class\u001b[0;34m(filename, product)\u001b[0m\n\u001b[1;32m    178\u001b[0m     \u001b[0;32mfor\u001b[0m \u001b[0mcls\u001b[0m \u001b[0;32min\u001b[0m \u001b[0mproduct_classes\u001b[0m\u001b[0;34m:\u001b[0m\u001b[0;34m\u001b[0m\u001b[0;34m\u001b[0m\u001b[0m\n\u001b[1;32m    179\u001b[0m         \u001b[0merror_message\u001b[0m \u001b[0;34m+=\u001b[0m \u001b[0mcls\u001b[0m\u001b[0;34m(\u001b[0m\u001b[0;34m)\u001b[0m\u001b[0;34m.\u001b[0m\u001b[0m__class__\u001b[0m\u001b[0;34m.\u001b[0m\u001b[0m__name__\u001b[0m \u001b[0;34m+\u001b[0m \u001b[0;34m\": \"\u001b[0m \u001b[0;34m+\u001b[0m \u001b[0mstr\u001b[0m\u001b[0;34m(\u001b[0m\u001b[0mcls\u001b[0m\u001b[0;34m(\u001b[0m\u001b[0;34m)\u001b[0m\u001b[0;34m.\u001b[0m\u001b[0mget_file_signature\u001b[0m\u001b[0;34m(\u001b[0m\u001b[0;34m)\u001b[0m\u001b[0;34m)\u001b[0m \u001b[0;34m+\u001b[0m \u001b[0;34m\"\\n\"\u001b[0m\u001b[0;34m\u001b[0m\u001b[0;34m\u001b[0m\u001b[0m\n\u001b[0;32m--> 180\u001b[0;31m     \u001b[0;32mraise\u001b[0m \u001b[0mClassNotFoundError\u001b[0m\u001b[0;34m(\u001b[0m\u001b[0merror_message\u001b[0m\u001b[0;34m)\u001b[0m\u001b[0;34m\u001b[0m\u001b[0;34m\u001b[0m\u001b[0m\n\u001b[0m\u001b[1;32m    181\u001b[0m \u001b[0;34m\u001b[0m\u001b[0m\n\u001b[1;32m    182\u001b[0m \u001b[0;34m\u001b[0m\u001b[0m\n",
      "\u001b[0;31mClassNotFoundError\u001b[0m: Product cannot be found for given file.\nSupported products and signatures are:\ncis: ['.*\\\\.nc']\nNCAR_NetCDF_RAF: ['.*\\\\.nc$']\nASCII_Hyperpoints: ['.*\\\\.txt']\nAeronet: ['.*\\\\.lev20', '.*\\\\.ONEILL_lev20', '.*\\\\.ONEILL_20', '.*\\\\.lev15', '.*\\\\.ONEILL_lev15', '.*\\\\.ONEILL_15', '.*All_Sites_Times.*dat', '.*\\\\.all']\nAerosol_CCI_L2: ['.*ESACCI-L2P_AEROSOL.*']\nAerosol_CCI_L3: ['.*ESACCI-L3C_AEROSOL.*nc']\nCaliop_L1: ['CAL_LID_L1.*hdf']\nCaliop_L2: ['CAL_LID_L2_05kmAPro.*hdf']\nCaliop_L2_NO_PRESSURE: ['CAL_LID_L2_05kmAPro.*hdf']\nCloudSat: ['.*_CS_.*GRANULE.*\\\\.hdf']\nCloud_CCI_L2: ['.*ESACCI-L2_CLOUD.*']\nCloud_CCI_L3: ['.*ESACCI-L3C_CLOUD.*nc', '.*ESACCI-L3U_CLOUD.*nc']\nHadGEM_CONVSH: ['[a-z]{6}[\\\\._][pamd]{2}[0-9]{4,6}.*\\\\.nc']\nHadGEM_PP: ['.*\\\\.pp']\nMODIS_L2: ['.*MYD06_L2.*\\\\.hdf', '.*MOD06_L2.*\\\\.hdf', '.*MYD04_L2.*\\\\.hdf', '.*MOD04_L2.*\\\\.hdf']\nMODIS_L2: ['.*MYD06_L2.*\\\\.hdf', '.*MOD06_L2.*\\\\.hdf', '.*MYD04_L2.*\\\\.hdf', '.*MOD04_L2.*\\\\.hdf']\nMODIS_L3: ['.*MYD08_D3.*\\\\.hdf', '.*MOD08_D3.*\\\\.hdf', '.*MYD08_M3.*\\\\.hdf', '.*MOD08_M3.*\\\\.hdf', '.*MOD08_E3.*\\\\.hdf']\nNetCDF_Gridded: ['.*\\\\.nc']\nMOD06_HACK: ['.*MYD06_L2.*\\\\.hdf', '.*MOD06_L2.*\\\\.hdf', '.*MYD04_L2.*\\\\.hdf', '.*MOD04_L2.*\\\\.hdf']\n"
     ]
    }
   ],
   "source": [
    "\n",
    "#get data, need to do seperately because of different resolution\n",
    "mod_hr=read_data_list(modis_daily,\n",
    "                   ['Cloud_Fraction',\n",
    "                    'Cloud_Top_Temperature'])"
   ]
  },
  {
   "cell_type": "code",
   "execution_count": 3,
   "metadata": {},
   "outputs": [
    {
     "name": "stderr",
     "output_type": "stream",
     "text": [
      "/home/users/pete_nut/miniconda3/lib/python3.8/site-packages/geotiepoints/geointerpolator.py:101: RuntimeWarning: invalid value encountered in arccos\n",
      "  90 - rad2deg(arccos(z__/EARTH_RADIUS)),\n",
      "/home/users/pete_nut/miniconda3/lib/python3.8/site-packages/geotiepoints/geointerpolator.py:103: RuntimeWarning: invalid value encountered in arcsin\n",
      "  (90 - rad2deg(arcsin(sqrt(x__ ** 2 + y__ ** 2)\n",
      "WARNING:root:Identified 13500 point(s) which were missing values for some or all coordinates - these points have been removed from the data.\n",
      "WARNING:root:Identified 13500 point(s) which were missing values for some or all coordinates - these points have been removed from the data.\n"
     ]
    }
   ],
   "source": [
    "mod_lr=read_data_list(modis_daily,\n",
    "                          ['Cloud_Effective_Radius','Cloud_Water_Path'], product='MOD06_HACK')"
   ]
  },
  {
   "cell_type": "code",
   "execution_count": null,
   "metadata": {},
   "outputs": [
    {
     "name": "stderr",
     "output_type": "stream",
     "text": [
      "/home/users/pete_nut/miniconda3/lib/python3.8/site-packages/cis/collocation/data_index.py:79: FutureWarning: arrays to stack must be passed as a \"sequence\" type such as list or tuple. Support for non-sequence iterables such as generators is deprecated as of NumPy 1.16 and will raise an error in the future.\n",
      "  indices = np.vstack(\n",
      "WARNING:root:Standard name 'None' not CF-compliant, this standard name will not be used in the output file.\n",
      "WARNING:root:Standard name 'None' not CF-compliant, this standard name will not be used in the output file.\n",
      "WARNING:root:Standard name 'None' not CF-compliant, this standard name will not be used in the output file.\n",
      "WARNING:root:Standard name 'None' not CF-compliant, this standard name will not be used in the output file.\n",
      "WARNING:root:Standard name 'None' not CF-compliant, this standard name will not be used in the output file.\n",
      "WARNING:root:Standard name 'None' not CF-compliant, this standard name will not be used in the output file.\n",
      "WARNING:root:Standard name 'None' not CF-compliant, this standard name will not be used in the output file.\n",
      "WARNING:root:Attempted to set invalid unit 'none'.\n",
      "WARNING:root:Units are not cf compliant, not setting them. Units none\n",
      "WARNING:root:Standard name 'None' not CF-compliant, this standard name will not be used in the output file.\n",
      "WARNING:root:Attempted to set invalid unit 'none'.\n",
      "WARNING:root:Units are not cf compliant, not setting them. Units none\n",
      "WARNING:root:Standard name 'None' not CF-compliant, this standard name will not be used in the output file.\n",
      "WARNING:root:Attempted to set invalid unit 'none'.\n",
      "WARNING:root:Standard name 'None' not CF-compliant, this standard name will not be used in the output file.\n",
      "WARNING:root:Standard name 'None' not CF-compliant, this standard name will not be used in the output file.\n",
      "WARNING:root:Standard name 'None' not CF-compliant, this standard name will not be used in the output file.\n"
     ]
    }
   ],
   "source": [
    "agg_mod_lr=mod_lr.aggregate(x=[-90.05,-69.95,0.1], y=[-35.05,0.05,0.1])\n",
    "agg_mod_hr=mod_hr.aggregate(x=[-90.05,-69.95,0.1], y=[-35.05,0.05,0.1])\n",
    "\n",
    "\n",
    "\n",
    "#add the two datasets together and save\n",
    "all_data=GriddedDataList([agg_mod_hr[0],agg_mod_hr[3], agg_mod_lr[0], agg_mod_lr[3]])\n",
    "all_data.save_data('/gws/nopw/j04/eo_shared_data_vol2/scratch/pete_nut/regrid_modis/'+modis_year+ modis_month + modis_day+\".nc\")\n",
    "\n",
    "    "
   ]
  },
  {
   "cell_type": "code",
   "execution_count": 23,
   "metadata": {},
   "outputs": [],
   "source": [
    "data=SD(modis_daily[0], SDC.READ)"
   ]
  },
  {
   "cell_type": "code",
   "execution_count": 39,
   "metadata": {},
   "outputs": [
    {
     "data": {
      "text/plain": [
       "{'valid_range': [0, 10000],\n",
       " '_FillValue': -9999,\n",
       " 'long_name': 'Cloud Particle Effective Radius two-channel retrieval using band 7(2.1um) and either band 1(0.65um), 2(0.86um), or 5(1.2um)  (specified in Quality_Assurance_1km)from best points: not failed in any way, not marked for clear sky restoral',\n",
       " 'units': 'micron',\n",
       " 'scale_factor': 0.009999999776482582,\n",
       " 'add_offset': 0.0,\n",
       " 'Parameter_Type': 'Output',\n",
       " 'Cell_Along_Swath_Sampling': [1, 2030, 1],\n",
       " 'Cell_Across_Swath_Sampling': [1, 1354, 1],\n",
       " 'Geolocation_Pointer': 'External MODIS geolocation product'}"
      ]
     },
     "execution_count": 39,
     "metadata": {},
     "output_type": "execute_result"
    }
   ],
   "source": [
    "data.select('Cloud_Effective_Radius').attributes()"
   ]
  },
  {
   "cell_type": "code",
   "execution_count": null,
   "metadata": {},
   "outputs": [],
   "source": [
    "\n",
    "#modis_day = days[0]\n",
    "for modis_day in days:\n",
    "    print('gridding for day {}/{}/{}'.format(modis_day, modis_month, modis_year))\n",
    "    #ROI is UTC-5 so there is no daylight before ~1200 UTC --> Overpass time for Terra is around 1800 UTC\n",
    "    #make a list of MODIS files on the day, check for overlap and delete those without \n",
    "    modis_daily = sorted(glob.glob(modis_dir.format(modis_year, modis_month, modis_day) + '*.hdf'))\n",
    "    end_day = glob.glob(modis_dir.format(modis_year, modis_month, modis_day) + '*.2355.*.hdf')[0]\n",
    "    end_day = modis_daily.index(end_day)\n",
    "    start_time=glob.glob(modis_dir.format(modis_year, modis_month, modis_day) + '*.1500.*.hdf')[0]\n",
    "    start_time=modis_daily.index(start_time)\n",
    "    modis_daily = modis_daily[start_time:end_day]\n",
    "    modis_daily=delete_no_overlap(modis_daily)\n",
    "\n",
    "    \n",
    "    #get data, need to do seperately because of different resolution\n",
    "    mod_hr=read_data_list(modis_daily,\n",
    "                       ['Cloud_Fraction',\n",
    "                        'Cloud_Top_Temperature'])\n",
    "    mod_lr=read_data_list(modis_daily,\n",
    "                          ['Cloud_Effective_Radius','Cloud_Water_Path'], product='MOD06_HACK')\n",
    "    \n",
    "    \n",
    "    #grid ungridded data to 0.1 deg grid, time dimension is collapsed (taking a mean?)\n",
    "    agg_mod_lr=mod_lr.aggregate(x=[-90.0,-70.,0.1], y=[-35.,0.,0.1])\n",
    "    agg_mod_hr=mod_hr.aggregate(x=[-90.0,-70.,0.1], y=[-35.,0.0,0.1])\n",
    "    \n",
    "    \n",
    "    #add the two datasets together and save\n",
    "    all_data=GriddedDataList([agg_mod_hr[0],agg_mod_hr[3], agg_mod_lr[0], agg_mod_lr[3]])\n",
    "    all_data.save_data('/gws/nopw/j04/eo_shared_data_vol2/scratch/pete_nut/regrid_modis/'+modis_year+ modis_month + modis_day+\".nc\")\n",
    "   \n",
    "    "
   ]
  },
  {
   "cell_type": "code",
   "execution_count": null,
   "metadata": {},
   "outputs": [],
   "source": []
  },
  {
   "cell_type": "code",
   "execution_count": null,
   "metadata": {},
   "outputs": [],
   "source": []
  }
 ],
 "metadata": {
  "kernelspec": {
   "display_name": "Python 3",
   "language": "python",
   "name": "python3"
  },
  "language_info": {
   "codemirror_mode": {
    "name": "ipython",
    "version": 3
   },
   "file_extension": ".py",
   "mimetype": "text/x-python",
   "name": "python",
   "nbconvert_exporter": "python",
   "pygments_lexer": "ipython3",
   "version": "3.8.3"
  }
 },
 "nbformat": 4,
 "nbformat_minor": 4
}
