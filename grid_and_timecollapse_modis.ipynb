{
 "cells": [
  {
   "cell_type": "code",
   "execution_count": 2,
   "metadata": {},
   "outputs": [],
   "source": [
    "import numpy as np\n",
    "import matplotlib.pyplot as plt\n",
    "import os\n",
    "import glob\n",
    "import copy\n",
    "import sys\n",
    "import datetime\n",
    "import iris\n",
    "from pyhdf.SD import SD, SDC\n",
    "import time\n",
    "\n",
    "os.environ['CIS_PLUGIN_HOME'] = '/home/users/pete_nut/plugins/'\n",
    "from cis import read_data, read_data_list, get_variables\n"
   ]
  },
  {
   "cell_type": "code",
   "execution_count": 11,
   "metadata": {},
   "outputs": [],
   "source": [
    "def delete_no_overlap(filelist):\n",
    "    delfiles=[]\n",
    "    for filename in filelist:\n",
    "        #print(filename)\n",
    "        dataset = SD(filename, SDC.READ)\n",
    "        lats = dataset.select('Latitude').get()\n",
    "        lons = dataset.select('Longitude').get()\n",
    "        #print(lats.min(), lats.max(), lons.min(), lons.max())\n",
    "        if (lats.max() < -35.  or lats.min() > 0 or lons.max() < -90 or lons.min() > -70 or lons.max()>170 ):\n",
    "            #print(filename)\n",
    "            delfiles.append(filename)\n",
    "        else: print(filename)\n",
    "    \n",
    "    for filename in delfiles:\n",
    "        filelist.remove(filename)\n",
    "    return filelist\n",
    "\n"
   ]
  },
  {
   "cell_type": "code",
   "execution_count": 15,
   "metadata": {},
   "outputs": [],
   "source": [
    "months=['00','01','02','03','04','05','06','07','08','09','10','11','12']\n",
    "modis_month = months[2]\n",
    "days=['01','02','03','04','05','06','07','08','09',\n",
    "      '10','11','12','13','14','15','16','17','18','19',\n",
    "      '20','21','22','23','24','25','26','27','28','29', '30','31']\n",
    "\n",
    "modis_day = days[0]\n",
    "modis_year = '2018'\n",
    "modis_dir = '/neodc/modis/data/MYD06_L2/collection61/{}/{}/{}/'\n",
    "\n",
    "#ROI is UTC-5 so there is no daylight before ~1200\n",
    "\n",
    "modis_daily = sorted(glob.glob(modis_dir.format(modis_year, modis_month, modis_day) + '*.hdf'))\n",
    "end_day = glob.glob(modis_dir.format(modis_year, modis_month, modis_day) + '*.2355.*.hdf')[0]\n",
    "end_day = modis_daily.index(end_day)\n",
    "start_time=glob.glob(modis_dir.format(modis_year, modis_month, modis_day) + '*.1500.*.hdf')[0]\n",
    "start_time=modis_daily.index(start_time)\n",
    "modis_daily = modis_daily[start_time:end_day]"
   ]
  },
  {
   "cell_type": "code",
   "execution_count": 16,
   "metadata": {},
   "outputs": [
    {
     "name": "stdout",
     "output_type": "stream",
     "text": [
      "/neodc/modis/data/MYD06_L2/collection61/2018/02/01/MYD06_L2.A2018032.1840.061.2018033162742.hdf\n",
      "/neodc/modis/data/MYD06_L2/collection61/2018/02/01/MYD06_L2.A2018032.1845.061.2018033163753.hdf\n",
      "/neodc/modis/data/MYD06_L2/collection61/2018/02/01/MYD06_L2.A2018032.1850.061.2018033163352.hdf\n",
      "/neodc/modis/data/MYD06_L2/collection61/2018/02/01/MYD06_L2.A2018032.2020.061.2018033162809.hdf\n",
      "/neodc/modis/data/MYD06_L2/collection61/2018/02/01/MYD06_L2.A2018032.2025.061.2018033163225.hdf\n"
     ]
    }
   ],
   "source": [
    "modis_daily=delete_no_overlap(modis_daily)"
   ]
  },
  {
   "cell_type": "code",
   "execution_count": 19,
   "metadata": {},
   "outputs": [],
   "source": [
    "mod_hr=read_data_list(modis_daily,\n",
    "                   ['Cloud_Fraction',\n",
    "                    'Cloud_Top_Temperature'])\n",
    "mod_lr=read_data_list(modis_daily,\n",
    "                      ['Cloud_Effective_Radius','Cloud_Water_Path'], product='MOD06_HACK')"
   ]
  },
  {
   "cell_type": "code",
   "execution_count": 20,
   "metadata": {},
   "outputs": [],
   "source": [
    "albedo=read_data_list(modis_daily, 'Single_Scatter_Albedo_Liq')"
   ]
  },
  {
   "cell_type": "code",
   "execution_count": 25,
   "metadata": {},
   "outputs": [
    {
     "data": {
      "text/plain": [
       "[<cis 'UngriddedData' of Ungridded data: Liquid Water single scatter albedo from the phase functions used  to generate the forward lookup tables / (none) \n",
       ">]"
      ]
     },
     "execution_count": 25,
     "metadata": {},
     "output_type": "execute_result"
    }
   ],
   "source": [
    "albedo"
   ]
  },
  {
   "cell_type": "code",
   "execution_count": null,
   "metadata": {},
   "outputs": [],
   "source": [
    "agg_mod_lr=mod_lr.aggregate(x=[-90.0,-70.,0.1], y=[-35.0,0.0,0.1])\n",
    "#agg_mod_hr=mod_hr.aggregate(x=[-90.0,-70.,0.1], y=[-35.0,0.0,0.1])"
   ]
  },
  {
   "cell_type": "code",
   "execution_count": null,
   "metadata": {},
   "outputs": [],
   "source": [
    "from cis.data_io.gridded_data import GriddedDataList\n",
    "all_data=GriddedDataList([agg_mod_hr[0],agg_mod_hr[3], agg_mod_lr[0], agg_mod_lr[3],agg_mod_lr[6]])\n",
    "all_data.save_data('/gws/nopw/j04/eo_shared_data_vol2/scratch/pete_nut/colloc_emission_modis/'+ modis_month + modis_day+\".nc\")"
   ]
  }
 ],
 "metadata": {
  "kernelspec": {
   "display_name": "Python 3",
   "language": "python",
   "name": "python3"
  },
  "language_info": {
   "codemirror_mode": {
    "name": "ipython",
    "version": 3
   },
   "file_extension": ".py",
   "mimetype": "text/x-python",
   "name": "python",
   "nbconvert_exporter": "python",
   "pygments_lexer": "ipython3",
   "version": "3.8.3"
  }
 },
 "nbformat": 4,
 "nbformat_minor": 4
}
