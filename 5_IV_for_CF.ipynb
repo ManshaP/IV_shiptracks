{
 "cells": [
  {
   "cell_type": "markdown",
   "metadata": {},
   "source": [
    "# Instrumental Variables\n",
    "This notebook explores regressing effective radii on ship presence and then cloud properties "
   ]
  },
  {
   "cell_type": "code",
   "execution_count": 1,
   "metadata": {},
   "outputs": [],
   "source": [
    "import numpy as np\n",
    "import matplotlib.pyplot as plt\n",
    "import glob\n",
    "import copy\n",
    "import sys\n",
    "import datetime\n",
    "import iris\n",
    "from pyhdf.SD import SD, SDC\n",
    "import time\n",
    "import xarray as xr\n",
    "from matplotlib.colors import LogNorm\n",
    "from sklearn.linear_model import LinearRegression\n",
    "from time_collapse_tools import (load_emis, load_modis,\n",
    "                                coarsened_emis, time_collapse_emis, \n",
    "                                 select_lonlats, select_data, \n",
    "                                 re_diff_emis, load_modis_outcome,\n",
    "                                drop_num)\n",
    "\n",
    "from cis import read_data, read_data_list, get_variables"
   ]
  },
  {
   "cell_type": "code",
   "execution_count": 2,
   "metadata": {},
   "outputs": [],
   "source": [
    "def conditional_p(X, Y):\n",
    "    Xhist, bounds=np.histogram(X, bins=20)\n",
    "    jointhist, xbounds, ybounds=np.histogram2d(X,Y, bins=20)\n",
    "    jointhist=jointhist.T\n",
    "    cond_prob=jointhist/Xhist\n",
    "    x, y = np.meshgrid(xbounds, ybounds)\n",
    "    plt.pcolormesh(x, y, cond_prob)\n",
    "    plt.colorbar()\n",
    "    return cond_prob, xbounds, ybounds\n",
    "\n",
    "def filter_nan(var_list):\n",
    "    for i in range(len(var_list)):\n",
    "        var_list[i]=var_list[i][np.logical_not(np.isnan(var_list[-1]))]\n",
    "    return var_list\n",
    "\n",
    "def filter_cond(var_list, condmask):\n",
    "    for i in range(len(var_list)):\n",
    "        var_list[i]=var_list[i][condmask]\n",
    "    return var_list\n",
    "\n",
    "def expectation_from_hist(ybounds,hist):\n",
    "    expect=np.empty(20)\n",
    "    for j in range(20):\n",
    "        av=0\n",
    "        for i in range(20):\n",
    "            av+=hist.T[j, i]*(i*0.05+0.025)\n",
    "        expect[j]=av* (ybounds[-1]-ybounds[0])+ybounds[0]\n",
    "    return expect"
   ]
  },
  {
   "cell_type": "markdown",
   "metadata": {},
   "source": [
    "## Part 1: get data"
   ]
  },
  {
   "cell_type": "code",
   "execution_count": 15,
   "metadata": {
    "scrolled": false
   },
   "outputs": [
    {
     "name": "stdout",
     "output_type": "stream",
     "text": [
      "0.12199776780100965\n",
      "0.7194740386844383\n",
      "0.7350088999904438\n",
      "0.0\n",
      "0.49210888851395995\n",
      "0.0\n",
      "0.49210888851395995\n",
      "0.10190247379302106\n",
      "0.7073434212737695\n",
      "0.7235631974437945\n",
      "0.0\n",
      "0.5001098496123372\n",
      "0.0\n",
      "0.5001098496123372\n",
      "0.13413952203873564\n",
      "0.7523242166156626\n",
      "0.762109405184353\n",
      "0.0\n",
      "0.4901290807244908\n",
      "0.0\n",
      "0.4901290807244908\n",
      "0.14488148053653857\n",
      "0.7043590216061194\n",
      "0.7153647715836771\n",
      "0.0\n",
      "0.45559996787194135\n",
      "0.0\n",
      "0.45559996787194135\n",
      "0.1193901826224086\n",
      "0.65849824492097\n",
      "0.669734225664253\n",
      "0.0\n",
      "0.4176429679559193\n",
      "0.0\n",
      "0.4176429679559193\n",
      "0.11321738883927938\n",
      "0.5406108110917398\n",
      "0.5544915498481005\n",
      "0.0\n",
      "0.35536703944664144\n",
      "0.0\n",
      "0.35536703944664144\n",
      "0.09168110371769496\n",
      "0.5184449044182634\n",
      "0.5392571194208171\n",
      "0.0\n",
      "0.3826483792781337\n",
      "0.0\n",
      "0.3826483792781337\n",
      "0.0855610743269225\n",
      "0.503495755301244\n",
      "0.5137125694018648\n",
      "0.0\n",
      "0.3384991228034078\n",
      "0.0\n",
      "0.3384991228034078\n",
      "0.08721539500975653\n",
      "0.5556212290872324\n",
      "0.5670077910542255\n",
      "0.0\n",
      "0.35882742035312515\n",
      "0.0\n",
      "0.35882742035312515\n",
      "0.18592589849209976\n",
      "0.647112749824995\n",
      "0.6555948316500395\n",
      "0.0\n",
      "0.3679511641315525\n",
      "0.0\n",
      "0.3679511641315525\n",
      "0.11819723793189796\n",
      "0.6670144056545383\n",
      "0.6792745673342688\n",
      "0.0\n",
      "0.44181986553462504\n",
      "0.0\n",
      "0.44181986553462504\n",
      "0.09389501349058403\n",
      "0.6973399704903477\n",
      "0.7133535520632295\n",
      "0.0\n",
      "0.484506975278922\n",
      "0.0\n",
      "0.484506975278922\n"
     ]
    }
   ],
   "source": [
    "modis_dir='/gws/nopw/j04/eo_shared_data_vol2/scratch/pete_nut/regrid_modis_aqua/'\n",
    "emis_dir='/gws/nopw/j04/eo_shared_data_vol2/scratch/pete_nut/colloc_emission_modis/downsampled_emis/'\n",
    "\n",
    "months=['01','02','03','04','05','06','07','08','09','10','11','12']\n",
    "#'01','02', '03','04','05','06','07','08','09','10','11','12'\n",
    "datlist=[[],[],[],[],[]]\n",
    "for month in months:\n",
    "    \n",
    "    da=load_emis(emis_dir, month=month)\n",
    "    datlist[0].append(da)\n",
    "    \n",
    "    re, ctt=load_modis(modis_dir, uncert_thresh=10, month=month)\n",
    "    datlist[1].append(re)\n",
    "    datlist[2].append(ctt)\n",
    "    \n",
    "    cot=load_modis_outcome(modis_dir+'targets/', month, target='Cloud_Optical_Thickness',uncert_thresh=8)\n",
    "    datlist[3].append(cot)\n",
    "    ta=load_modis_outcome(modis_dir+'targets/', month, target='Cloud_Optical_Thickness',uncert_thresh=8)\n",
    "    datlist[4].append(ta)"
   ]
  },
  {
   "cell_type": "code",
   "execution_count": 4,
   "metadata": {},
   "outputs": [],
   "source": [
    "comb_da=xr.concat(datlist[0], dim='time')\n",
    "comb_re=xr.concat(datlist[1], dim='time')\n",
    "comb_ctt=xr.concat(datlist[2], dim='time')\n",
    "comb_cot=xr.concat(datlist[3], dim='time')\n",
    "comb_ta=xr.concat(datlist[4], dim='time')"
   ]
  },
  {
   "cell_type": "code",
   "execution_count": 5,
   "metadata": {},
   "outputs": [
    {
     "name": "stderr",
     "output_type": "stream",
     "text": [
      "/home/users/pete_nut/miniconda3/lib/python3.8/site-packages/matplotlib/cbook/deprecation.py:107: MatplotlibDeprecationWarning: Adding an axes using the same arguments as a previous axes currently reuses the earlier instance.  In a future version, a new instance will always be created and returned.  Meanwhile, this warning can be suppressed, and the future behavior ensured, by passing a unique label to each axes instance.\n",
      "  warnings.warn(message, mplDeprecation, stacklevel=1)\n"
     ]
    },
    {
     "data": {
      "image/png": "[encoded data removed]",
      "text/plain": [
       "<Figure size 432x288 with 2 Axes>"
      ]
     },
     "metadata": {
      "needs_background": "light"
     },
     "output_type": "display_data"
    }
   ],
   "source": [
    "comb_re.isel(time=24).plot()\n",
    "plt.axes().set_aspect('equal')"
   ]
  },
  {
   "cell_type": "code",
   "execution_count": 6,
   "metadata": {},
   "outputs": [],
   "source": [
    "#adj_re=comb_re-comb_re.isel(time=slice(1,len(comb_re.time)-1)).mean('time')\n",
    "emis_h=20\n",
    "end_h=24\n",
    "lats=slice(-35,-17)\n",
    "lons=slice(-77.5,-72.5)\n",
    "re_sel, emis_sel=select_data(comb_re,\n",
    "                             comb_da, emis_h=emis_h,end_h=end_h,lats=lats, lons=lons, coarsening=1)\n",
    "ta_sel, emis_sel=select_data(comb_ta,\n",
    "                             comb_da, emis_h=emis_h,end_h=end_h,lats=lats, lons=lons, coarsening=1)\n",
    "ctt_sel, emis_sel=select_data(comb_ctt,\n",
    "                             comb_da, emis_h=emis_h,end_h=end_h,lats=lats, lons=lons, coarsening=1)\n",
    "cot_sel, emis_sel=select_data(comb_cot,\n",
    "                             comb_da, emis_h=emis_h,end_h=end_h,lats=lats, lons=lons, coarsening=1)\n"
   ]
  },
  {
   "cell_type": "code",
   "execution_count": 7,
   "metadata": {},
   "outputs": [],
   "source": [
    "COT=cot_sel.values\n",
    "CTT=ctt_sel.values\n",
    "X=re_sel.values"
   ]
  },
  {
   "cell_type": "code",
   "execution_count": 8,
   "metadata": {},
   "outputs": [],
   "source": [
    "N_d=drop_num(X, COT, CTT)\n",
    "N_d_mean=np.nanmean(N_d, axis=-1)\n",
    "N_d_mean=np.tile(N_d_mean, (np.shape(N_d)[-1],1,1)).transpose(1,2,0)\n",
    "N_d-=N_d_mean"
   ]
  },
  {
   "cell_type": "code",
   "execution_count": 9,
   "metadata": {},
   "outputs": [],
   "source": [
    "X_mean=np.nanmean(X, axis=-1)\n",
    "X_mean=np.tile(X_mean, (np.shape(X)[-1],1,1)).transpose(1,2,0)\n",
    "X-=X_mean"
   ]
  },
  {
   "cell_type": "code",
   "execution_count": 10,
   "metadata": {},
   "outputs": [],
   "source": [
    "#look at 9/10"
   ]
  },
  {
   "cell_type": "code",
   "execution_count": 11,
   "metadata": {},
   "outputs": [],
   "source": [
    "Z=emis_sel.values.flatten()\n",
    "Y=ta_sel.values.flatten()"
   ]
  },
  {
   "cell_type": "code",
   "execution_count": 12,
   "metadata": {},
   "outputs": [],
   "source": [
    "X=X.flatten()\n",
    "X_mean=X_mean.flatten()\n",
    "COT=COT.flatten()\n",
    "CTT=CTT.flatten()\n",
    "N_d=N_d.flatten()\n",
    "N_d_mean=N_d_mean.flatten()"
   ]
  },
  {
   "cell_type": "code",
   "execution_count": 13,
   "metadata": {},
   "outputs": [
    {
     "data": {
      "text/plain": [
       "<matplotlib.colorbar.Colorbar at 0x7fd3d6e92610>"
      ]
     },
     "execution_count": 13,
     "metadata": {},
     "output_type": "execute_result"
    },
    {
     "data": {
      "image/png": "[encoded data removed]",
      "text/plain": [
       "<Figure size 720x504 with 2 Axes>"
      ]
     },
     "metadata": {
      "needs_background": "light"
     },
     "output_type": "display_data"
    }
   ],
   "source": [
    "plt.figure(figsize=(10,7))\n",
    "#range=[[0.0, 2], [-30, 30]]\n",
    "plt.hist2d(Z,X+X_mean, bins=30,range=[[0.0, 0.75], [0, 50]],norm=LogNorm())\n",
    "plt.ylabel('r_eff')\n",
    "plt.xlabel('emissions in the past 7h')\n",
    "plt.colorbar()"
   ]
  },
  {
   "cell_type": "markdown",
   "metadata": {},
   "source": [
    "## Part 2: Try IV for r_eff-Nd-LWP relationship"
   ]
  },
  {
   "cell_type": "code",
   "execution_count": 56,
   "metadata": {},
   "outputs": [],
   "source": [
    "#here, try to regress r_eff on ship \n",
    "#and regress LWP on Nd calculated from r_eff predicted by ship "
   ]
  },
  {
   "cell_type": "code",
   "execution_count": 57,
   "metadata": {},
   "outputs": [],
   "source": [
    "[z,y,x_mean,x]=filter_nan([Z,Y,N_d_mean, N_d])\n",
    "[z,x,x_mean,y]=filter_nan([z,x,x_mean,y])"
   ]
  },
  {
   "cell_type": "code",
   "execution_count": 58,
   "metadata": {},
   "outputs": [
    {
     "name": "stdout",
     "output_type": "stream",
     "text": [
      "[4.48117409]\n"
     ]
    },
    {
     "data": {
      "text/plain": [
       "52.48178360825636"
      ]
     },
     "execution_count": 58,
     "metadata": {},
     "output_type": "execute_result"
    }
   ],
   "source": [
    "z_t=np.where(z>0.0, 1, 0)\n",
    "n=len(x)\n",
    "\n",
    "regr_zx = LinearRegression(\n",
    "   fit_intercept = True).fit(z_t.reshape(-1, 1),x)\n",
    "\n",
    "print(regr_zx.coef_)\n",
    "\n",
    "RSS_2=((regr_zx.predict(z_t.reshape(-1, 1)) - x) ** 2).sum()\n",
    "RSS_1=((x-np.mean(x))**2).sum()\n",
    "F=((RSS_1-RSS_2)/1)/(RSS_2/(n-2))\n",
    "\n",
    "F"
   ]
  },
  {
   "cell_type": "code",
   "execution_count": 59,
   "metadata": {
    "scrolled": false
   },
   "outputs": [
    {
     "data": {
      "text/plain": [
       "(array([[1.00000000e+00, 1.00000000e+00, 1.00000000e+00, 9.99413146e-01,\n",
       "         9.73439575e-01, 8.79912664e-01, 8.15817985e-01, 9.12139738e-01,\n",
       "         7.91203566e-01, 4.20824904e-01, 2.66540604e-01, 2.06612404e-01,\n",
       "         1.07114986e-01, 5.90755697e-02, 6.79876726e-02, 6.32716672e-02,\n",
       "         5.66179080e-02, 5.85260792e-03, 0.00000000e+00, 0.00000000e+00],\n",
       "        [0.00000000e+00, 0.00000000e+00, 0.00000000e+00, 5.86854460e-04,\n",
       "         2.58964143e-02, 6.47743814e-02, 7.42145179e-02, 3.66812227e-02,\n",
       "         1.72659733e-01, 4.32737694e-01, 4.34094506e-01, 4.43528858e-01,\n",
       "         4.65350398e-01, 4.48634336e-01, 4.29540007e-01, 4.70850992e-01,\n",
       "         4.63951425e-01, 3.04335612e-01, 2.58939581e-02, 0.00000000e+00],\n",
       "        [0.00000000e+00, 0.00000000e+00, 0.00000000e+00, 0.00000000e+00,\n",
       "         6.64010624e-04, 3.63901019e-02, 4.71289274e-02, 1.78165939e-02,\n",
       "         1.67607727e-02, 1.07636548e-01, 1.93369371e-01, 2.26456343e-01,\n",
       "         2.69181030e-01, 3.02834970e-01, 2.84086292e-01, 2.65926673e-01,\n",
       "         2.81055080e-01, 3.91141493e-01, 3.73612824e-01, 9.45945946e-01],\n",
       "        [0.00000000e+00, 0.00000000e+00, 0.00000000e+00, 0.00000000e+00,\n",
       "         0.00000000e+00, 1.52838428e-02, 2.11267606e-02, 1.03056769e-02,\n",
       "         7.25111441e-03, 2.38536750e-02, 6.02429449e-02, 7.70382080e-02,\n",
       "         1.09578809e-01, 1.29545368e-01, 1.29866454e-01, 1.11761408e-01,\n",
       "         1.18353507e-01, 1.96226238e-01, 4.10604192e-01, 0.00000000e+00],\n",
       "        [0.00000000e+00, 0.00000000e+00, 0.00000000e+00, 0.00000000e+00,\n",
       "         0.00000000e+00, 2.18340611e-03, 1.73347779e-02, 7.16157205e-03,\n",
       "         4.27934621e-03, 7.86693639e-03, 2.34106838e-02, 2.34091215e-02,\n",
       "         3.10486298e-02, 4.12290347e-02, 5.47015181e-02, 4.80816235e-02,\n",
       "         4.76678626e-02, 6.74688641e-02, 1.23304562e-01, 0.00000000e+00],\n",
       "        [0.00000000e+00, 0.00000000e+00, 0.00000000e+00, 0.00000000e+00,\n",
       "         0.00000000e+00, 1.45560408e-03, 9.75081257e-03, 5.24017467e-03,\n",
       "         3.15007429e-03, 2.83771634e-03, 1.04412883e-02, 9.92196960e-03,\n",
       "         8.77388571e-03, 1.14447857e-02, 2.01849104e-02, 2.09171432e-02,\n",
       "         1.80499152e-02, 2.07416425e-02, 1.60295931e-02, 0.00000000e+00],\n",
       "        [0.00000000e+00, 0.00000000e+00, 0.00000000e+00, 0.00000000e+00,\n",
       "         0.00000000e+00, 0.00000000e+00, 7.04225352e-03, 4.89082969e-03,\n",
       "         2.02080238e-03, 2.05102270e-03, 5.48784248e-03, 5.56639311e-03,\n",
       "         4.19184374e-03, 4.05717969e-03, 7.72057984e-03, 9.44500505e-03,\n",
       "         7.44391436e-03, 7.39769641e-03, 1.10974106e-02, 0.00000000e+00],\n",
       "        [0.00000000e+00, 0.00000000e+00, 0.00000000e+00, 0.00000000e+00,\n",
       "         0.00000000e+00, 0.00000000e+00, 3.79198267e-03, 2.79475983e-03,\n",
       "         1.18870728e-03, 1.12384806e-03, 2.63087579e-03, 2.55616844e-03,\n",
       "         2.16281299e-03, 1.69365134e-03, 3.10923411e-03, 4.83462272e-03,\n",
       "         3.20939952e-03, 3.55838562e-03, 1.35635018e-02, 2.70270270e-02],\n",
       "        [0.00000000e+00, 0.00000000e+00, 0.00000000e+00, 0.00000000e+00,\n",
       "         0.00000000e+00, 0.00000000e+00, 5.41711809e-04, 1.04803493e-03,\n",
       "         3.56612184e-04, 5.61924028e-04, 1.95260313e-03, 1.79940805e-03,\n",
       "         1.03681241e-03, 8.02588506e-04, 1.45188905e-03, 2.61464290e-03,\n",
       "         1.53767299e-03, 1.21734245e-03, 9.86436498e-03, 0.00000000e+00],\n",
       "        [0.00000000e+00, 0.00000000e+00, 0.00000000e+00, 0.00000000e+00,\n",
       "         0.00000000e+00, 0.00000000e+00, 1.62513543e-03, 3.49344978e-04,\n",
       "         5.34918276e-04, 1.96673410e-04, 7.19380100e-04, 1.24445042e-03,\n",
       "         7.13505318e-04, 3.85495267e-04, 7.12247460e-04, 1.20641328e-03,\n",
       "         9.77802310e-04, 4.68208634e-04, 1.10974106e-02, 0.00000000e+00],\n",
       "        [0.00000000e+00, 0.00000000e+00, 0.00000000e+00, 0.00000000e+00,\n",
       "         0.00000000e+00, 0.00000000e+00, 1.62513543e-03, 5.24017467e-04,\n",
       "         1.78306092e-04, 8.42886042e-05, 3.08305757e-04, 7.90394188e-04,\n",
       "         4.01346741e-04, 1.07433107e-04, 3.65255108e-04, 6.09933849e-04,\n",
       "         5.91412688e-04, 7.49133814e-04, 2.46609125e-03, 0.00000000e+00],\n",
       "        [0.00000000e+00, 0.00000000e+00, 0.00000000e+00, 0.00000000e+00,\n",
       "         0.00000000e+00, 0.00000000e+00, 0.00000000e+00, 3.49344978e-04,\n",
       "         4.16047548e-04, 8.42886042e-05, 3.69966909e-04, 5.04506929e-04,\n",
       "         1.67227809e-04, 7.58351344e-05, 1.78061865e-04, 2.82542886e-04,\n",
       "         2.83878090e-04, 3.74566907e-04, 1.23304562e-03, 0.00000000e+00],\n",
       "        [0.00000000e+00, 0.00000000e+00, 0.00000000e+00, 0.00000000e+00,\n",
       "         0.00000000e+00, 0.00000000e+00, 0.00000000e+00, 5.24017467e-04,\n",
       "         0.00000000e+00, 8.42886042e-05, 2.26090889e-04, 2.35436567e-04,\n",
       "         1.33782247e-04, 4.42371617e-05, 5.02225773e-05, 9.41809620e-05,\n",
       "         1.41939045e-04, 2.34104317e-04, 0.00000000e+00, 0.00000000e+00],\n",
       "        [0.00000000e+00, 0.00000000e+00, 0.00000000e+00, 0.00000000e+00,\n",
       "         0.00000000e+00, 0.00000000e+00, 0.00000000e+00, 1.74672489e-04,\n",
       "         0.00000000e+00, 0.00000000e+00, 6.16611514e-05, 1.68168976e-04,\n",
       "         4.45940824e-05, 5.05567563e-05, 3.19598219e-05, 5.83025003e-05,\n",
       "         7.09695225e-05, 1.40462590e-04, 1.23304562e-03, 0.00000000e+00],\n",
       "        [0.00000000e+00, 0.00000000e+00, 0.00000000e+00, 0.00000000e+00,\n",
       "         0.00000000e+00, 0.00000000e+00, 0.00000000e+00, 0.00000000e+00,\n",
       "         0.00000000e+00, 0.00000000e+00, 6.16611514e-05, 6.72675905e-05,\n",
       "         2.22970412e-05, 1.26391891e-05, 4.56568885e-06, 1.79392309e-05,\n",
       "         7.88550250e-06, 4.68208634e-05, 0.00000000e+00, 2.70270270e-02],\n",
       "        [0.00000000e+00, 0.00000000e+00, 0.00000000e+00, 0.00000000e+00,\n",
       "         0.00000000e+00, 0.00000000e+00, 0.00000000e+00, 0.00000000e+00,\n",
       "         0.00000000e+00, 0.00000000e+00, 6.16611514e-05, 1.68168976e-05,\n",
       "         2.22970412e-05, 6.31959453e-06, 4.56568885e-06, 2.69088463e-05,\n",
       "         3.94275125e-05, 0.00000000e+00, 0.00000000e+00, 0.00000000e+00],\n",
       "        [0.00000000e+00, 0.00000000e+00, 0.00000000e+00, 0.00000000e+00,\n",
       "         0.00000000e+00, 0.00000000e+00, 0.00000000e+00, 0.00000000e+00,\n",
       "         0.00000000e+00, 0.00000000e+00, 0.00000000e+00, 0.00000000e+00,\n",
       "         3.34455618e-05, 0.00000000e+00, 0.00000000e+00, 0.00000000e+00,\n",
       "         0.00000000e+00, 4.68208634e-05, 0.00000000e+00, 0.00000000e+00],\n",
       "        [0.00000000e+00, 0.00000000e+00, 0.00000000e+00, 0.00000000e+00,\n",
       "         0.00000000e+00, 0.00000000e+00, 0.00000000e+00, 0.00000000e+00,\n",
       "         0.00000000e+00, 5.61924028e-05, 2.05537171e-05, 3.36337952e-05,\n",
       "         1.11485206e-05, 0.00000000e+00, 0.00000000e+00, 0.00000000e+00,\n",
       "         0.00000000e+00, 0.00000000e+00, 0.00000000e+00, 0.00000000e+00],\n",
       "        [0.00000000e+00, 0.00000000e+00, 0.00000000e+00, 0.00000000e+00,\n",
       "         0.00000000e+00, 0.00000000e+00, 0.00000000e+00, 0.00000000e+00,\n",
       "         0.00000000e+00, 0.00000000e+00, 0.00000000e+00, 5.04506929e-05,\n",
       "         0.00000000e+00, 0.00000000e+00, 4.56568885e-06, 0.00000000e+00,\n",
       "         0.00000000e+00, 0.00000000e+00, 0.00000000e+00, 0.00000000e+00],\n",
       "        [0.00000000e+00, 0.00000000e+00, 0.00000000e+00, 0.00000000e+00,\n",
       "         0.00000000e+00, 0.00000000e+00, 0.00000000e+00, 0.00000000e+00,\n",
       "         0.00000000e+00, 0.00000000e+00, 0.00000000e+00, 0.00000000e+00,\n",
       "         1.11485206e-05, 0.00000000e+00, 0.00000000e+00, 0.00000000e+00,\n",
       "         0.00000000e+00, 0.00000000e+00, 0.00000000e+00, 0.00000000e+00]]),\n",
       " array([-1.88587034, -1.42158463, -0.95729892, -0.4930132 , -0.02872749,\n",
       "         0.43555822,  0.89984393,  1.36412964,  1.82841535,  2.29270106,\n",
       "         2.75698677,  3.22127248,  3.68555819,  4.1498439 ,  4.61412961,\n",
       "         5.07841532,  5.54270103,  6.00698674,  6.47127245,  6.93555816,\n",
       "         7.39984387]),\n",
       " array([ 0.13      ,  5.02449989,  9.91899978, 14.81349967, 19.70799956,\n",
       "        24.60249945, 29.49699934, 34.39149923, 39.28599912, 44.18049901,\n",
       "        49.0749989 , 53.96949879, 58.86399868, 63.75849857, 68.65299847,\n",
       "        73.54749836, 78.44199825, 83.33649814, 88.23099803, 93.12549792,\n",
       "        98.01999781]))"
      ]
     },
     "execution_count": 59,
     "metadata": {},
     "output_type": "execute_result"
    },
    {
     "data": {
      "image/png": "[encoded data removed]",
      "text/plain": [
       "<Figure size 432x288 with 2 Axes>"
      ]
     },
     "metadata": {
      "needs_background": "light"
     },
     "output_type": "display_data"
    }
   ],
   "source": [
    "conditional_p(np.log(x+x_mean),y)"
   ]
  },
  {
   "cell_type": "code",
   "execution_count": 60,
   "metadata": {},
   "outputs": [
    {
     "name": "stdout",
     "output_type": "stream",
     "text": [
      "[1.48544386] 3.6889842365189667\n"
     ]
    }
   ],
   "source": [
    "regr_xy = LinearRegression(\n",
    "   fit_intercept = True).fit(np.log(x+x_mean).reshape(-1, 1),y)\n",
    "print(regr_xy.coef_, regr_xy.intercept_)"
   ]
  },
  {
   "cell_type": "code",
   "execution_count": null,
   "metadata": {},
   "outputs": [],
   "source": [
    "plt.figure(figsize=(10,7))\n",
    "#range=[[0.0, 2], [-30, 30]]\n",
    "plt.hist2d(np.log(x+x_mean),y, bins=30,norm=LogNorm())\n",
    "plt.plot(np.log(x+x_mean), regr_xy.predict(np.log(x+x_mean).reshape(-1, 1)))\n",
    "plt.colorbar()"
   ]
  },
  {
   "cell_type": "code",
   "execution_count": 62,
   "metadata": {},
   "outputs": [
    {
     "data": {
      "text/plain": [
       "array([2.34123705])"
      ]
     },
     "execution_count": 62,
     "metadata": {},
     "output_type": "execute_result"
    }
   ],
   "source": [
    "regr_xy_IV = LinearRegression(\n",
    "   fit_intercept = True).fit(np.log(regr_zx.predict(z_t.reshape(-1, 1))+x_mean).reshape(-1, 1),y)\n",
    "regr_xy_IV.coef_"
   ]
  },
  {
   "cell_type": "code",
   "execution_count": 63,
   "metadata": {},
   "outputs": [
    {
     "data": {
      "text/plain": [
       "array([1.3615927])"
      ]
     },
     "execution_count": 63,
     "metadata": {},
     "output_type": "execute_result"
    },
    {
     "data": {
      "image/png": "[encoded data removed]",
      "text/plain": [
       "<Figure size 432x288 with 2 Axes>"
      ]
     },
     "metadata": {
      "needs_background": "light"
     },
     "output_type": "display_data"
    }
   ],
   "source": [
    "cond_prob, xbounds, ybounds=conditional_p(np.log(regr_zx.predict(z_t.reshape(-1, 1))+x_mean),y)\n",
    "#plt.scatter(xbounds[:-1]+(xbounds[1]-xbounds[0])/2, expectation_from_hist(ybounds,cond_prob))\n",
    "regr_xy_IV_cond = LinearRegression(\n",
    "   fit_intercept = True).fit((xbounds[:-1]+(xbounds[1]-xbounds[0])/2).reshape(-1,1), expectation_from_hist(ybounds,cond_prob))\n",
    "regr_xy_IV_cond.coef_"
   ]
  },
  {
   "cell_type": "code",
   "execution_count": null,
   "metadata": {},
   "outputs": [],
   "source": []
  },
  {
   "cell_type": "code",
   "execution_count": 64,
   "metadata": {},
   "outputs": [
    {
     "data": {
      "text/plain": [
       "<matplotlib.colorbar.Colorbar at 0x7f19f5902580>"
      ]
     },
     "execution_count": 64,
     "metadata": {},
     "output_type": "execute_result"
    },
    {
     "data": {
      "image/png": "[encoded data removed]",
      "text/plain": [
       "<Figure size 720x504 with 2 Axes>"
      ]
     },
     "metadata": {
      "needs_background": "light"
     },
     "output_type": "display_data"
    }
   ],
   "source": [
    "plt.figure(figsize=(10,7))\n",
    "#range=[[0.0, 2], [-30, 30]]\n",
    "plt.hist2d(np.log(regr_zx.predict(z_t.reshape(-1, 1))+x_mean),y, bins=30,)\n",
    "plt.plot(x+x_mean, regr_xy_IV.predict((x+x_mean).reshape(-1, 1)))\n",
    "plt.colorbar()"
   ]
  },
  {
   "cell_type": "code",
   "execution_count": 65,
   "metadata": {},
   "outputs": [
    {
     "data": {
      "text/plain": [
       "(array([  1348.,  17294.,  56825.,  89631.,  98964., 118098., 181113.,\n",
       "        208029., 191050.,  51860.]),\n",
       " array([3.6917952 , 3.88140047, 4.07100575, 4.26061102, 4.45021629,\n",
       "        4.63982157, 4.82942684, 5.01903211, 5.20863739, 5.39824266,\n",
       "        5.58784793]),\n",
       " <a list of 10 Patch objects>)"
      ]
     },
     "execution_count": 65,
     "metadata": {},
     "output_type": "execute_result"
    },
    {
     "data": {
      "image/png": "[encoded data removed]",
      "text/plain": [
       "<Figure size 432x288 with 1 Axes>"
      ]
     },
     "metadata": {
      "needs_background": "light"
     },
     "output_type": "display_data"
    }
   ],
   "source": [
    "plt.hist(np.log(regr_zx.predict(z_t.reshape(-1, 1))+x_mean))"
   ]
  },
  {
   "cell_type": "code",
   "execution_count": 66,
   "metadata": {},
   "outputs": [],
   "source": [
    "# oh no: the IV one comes with a larger slope. That is the opposite of what I expected\n",
    "# it could be because the predicted Nd values are all on the downward sloping branch"
   ]
  },
  {
   "cell_type": "code",
   "execution_count": 67,
   "metadata": {},
   "outputs": [
    {
     "name": "stdout",
     "output_type": "stream",
     "text": [
      "[0.24009979]\n"
     ]
    }
   ],
   "source": [
    "regr_xy = LinearRegression(\n",
    "   fit_intercept = True).fit(np.log(x+x_mean)[(np.log(x+x_mean)>4)&(np.log(x+x_mean)<5.75)].reshape(-1, 1),y[(np.log(x+x_mean)>4)&(np.log(x+x_mean)<5.75)])\n",
    "print(regr_xy.coef_)"
   ]
  },
  {
   "cell_type": "code",
   "execution_count": 16,
   "metadata": {
    "scrolled": false
   },
   "outputs": [
    {
     "ename": "NameError",
     "evalue": "name 'x' is not defined",
     "output_type": "error",
     "traceback": [
      "\u001b[0;31m---------------------------------------------------------------------------\u001b[0m",
      "\u001b[0;31mNameError\u001b[0m                                 Traceback (most recent call last)",
      "\u001b[0;32m<ipython-input-16-22dbf453d5f5>\u001b[0m in \u001b[0;36m<module>\u001b[0;34m\u001b[0m\n\u001b[1;32m      1\u001b[0m \u001b[0mplt\u001b[0m\u001b[0;34m.\u001b[0m\u001b[0mfigure\u001b[0m\u001b[0;34m(\u001b[0m\u001b[0mfigsize\u001b[0m\u001b[0;34m=\u001b[0m\u001b[0;34m(\u001b[0m\u001b[0;36m10\u001b[0m\u001b[0;34m,\u001b[0m\u001b[0;36m7\u001b[0m\u001b[0;34m)\u001b[0m\u001b[0;34m)\u001b[0m\u001b[0;34m\u001b[0m\u001b[0;34m\u001b[0m\u001b[0m\n\u001b[1;32m      2\u001b[0m \u001b[0;31m#range=[[0.0, 2], [-30, 30]]\u001b[0m\u001b[0;34m\u001b[0m\u001b[0;34m\u001b[0m\u001b[0;34m\u001b[0m\u001b[0m\n\u001b[0;32m----> 3\u001b[0;31m \u001b[0mplt\u001b[0m\u001b[0;34m.\u001b[0m\u001b[0mhist2d\u001b[0m\u001b[0;34m(\u001b[0m\u001b[0mnp\u001b[0m\u001b[0;34m.\u001b[0m\u001b[0mlog\u001b[0m\u001b[0;34m(\u001b[0m\u001b[0mx\u001b[0m\u001b[0;34m+\u001b[0m\u001b[0mx_mean\u001b[0m\u001b[0;34m)\u001b[0m\u001b[0;34m[\u001b[0m\u001b[0;34m(\u001b[0m\u001b[0mnp\u001b[0m\u001b[0;34m.\u001b[0m\u001b[0mlog\u001b[0m\u001b[0;34m(\u001b[0m\u001b[0mx\u001b[0m\u001b[0;34m+\u001b[0m\u001b[0mx_mean\u001b[0m\u001b[0;34m)\u001b[0m\u001b[0;34m>\u001b[0m\u001b[0;36m4\u001b[0m\u001b[0;34m)\u001b[0m\u001b[0;34m&\u001b[0m\u001b[0;34m(\u001b[0m\u001b[0mnp\u001b[0m\u001b[0;34m.\u001b[0m\u001b[0mlog\u001b[0m\u001b[0;34m(\u001b[0m\u001b[0mx\u001b[0m\u001b[0;34m+\u001b[0m\u001b[0mx_mean\u001b[0m\u001b[0;34m)\u001b[0m\u001b[0;34m<\u001b[0m\u001b[0;36m5.75\u001b[0m\u001b[0;34m)\u001b[0m\u001b[0;34m]\u001b[0m\u001b[0;34m,\u001b[0m\u001b[0my\u001b[0m\u001b[0;34m[\u001b[0m\u001b[0;34m(\u001b[0m\u001b[0mnp\u001b[0m\u001b[0;34m.\u001b[0m\u001b[0mlog\u001b[0m\u001b[0;34m(\u001b[0m\u001b[0mx\u001b[0m\u001b[0;34m+\u001b[0m\u001b[0mx_mean\u001b[0m\u001b[0;34m)\u001b[0m\u001b[0;34m>\u001b[0m\u001b[0;36m4\u001b[0m\u001b[0;34m)\u001b[0m\u001b[0;34m&\u001b[0m\u001b[0;34m(\u001b[0m\u001b[0mnp\u001b[0m\u001b[0;34m.\u001b[0m\u001b[0mlog\u001b[0m\u001b[0;34m(\u001b[0m\u001b[0mx\u001b[0m\u001b[0;34m+\u001b[0m\u001b[0mx_mean\u001b[0m\u001b[0;34m)\u001b[0m\u001b[0;34m<\u001b[0m\u001b[0;36m5.75\u001b[0m\u001b[0;34m)\u001b[0m\u001b[0;34m]\u001b[0m\u001b[0;34m,\u001b[0m \u001b[0mbins\u001b[0m\u001b[0;34m=\u001b[0m\u001b[0;36m30\u001b[0m\u001b[0;34m,\u001b[0m\u001b[0;34m)\u001b[0m\u001b[0;34m\u001b[0m\u001b[0;34m\u001b[0m\u001b[0m\n\u001b[0m\u001b[1;32m      4\u001b[0m \u001b[0mplt\u001b[0m\u001b[0;34m.\u001b[0m\u001b[0mplot\u001b[0m\u001b[0;34m(\u001b[0m\u001b[0mnp\u001b[0m\u001b[0;34m.\u001b[0m\u001b[0mlog\u001b[0m\u001b[0;34m(\u001b[0m\u001b[0mx\u001b[0m\u001b[0;34m+\u001b[0m\u001b[0mx_mean\u001b[0m\u001b[0;34m)\u001b[0m\u001b[0;34m[\u001b[0m\u001b[0mnp\u001b[0m\u001b[0;34m.\u001b[0m\u001b[0mlog\u001b[0m\u001b[0;34m(\u001b[0m\u001b[0mx\u001b[0m\u001b[0;34m+\u001b[0m\u001b[0mx_mean\u001b[0m\u001b[0;34m)\u001b[0m\u001b[0;34m>\u001b[0m\u001b[0;36m4\u001b[0m\u001b[0;34m]\u001b[0m\u001b[0;34m,\u001b[0m \u001b[0mregr_xy\u001b[0m\u001b[0;34m.\u001b[0m\u001b[0mpredict\u001b[0m\u001b[0;34m(\u001b[0m\u001b[0mnp\u001b[0m\u001b[0;34m.\u001b[0m\u001b[0mlog\u001b[0m\u001b[0;34m(\u001b[0m\u001b[0mx\u001b[0m\u001b[0;34m+\u001b[0m\u001b[0mx_mean\u001b[0m\u001b[0;34m)\u001b[0m\u001b[0;34m.\u001b[0m\u001b[0mreshape\u001b[0m\u001b[0;34m(\u001b[0m\u001b[0;34m-\u001b[0m\u001b[0;36m1\u001b[0m\u001b[0;34m,\u001b[0m \u001b[0;36m1\u001b[0m\u001b[0;34m)\u001b[0m\u001b[0;34m)\u001b[0m\u001b[0;34m[\u001b[0m\u001b[0mnp\u001b[0m\u001b[0;34m.\u001b[0m\u001b[0mlog\u001b[0m\u001b[0;34m(\u001b[0m\u001b[0mx\u001b[0m\u001b[0;34m+\u001b[0m\u001b[0mx_mean\u001b[0m\u001b[0;34m)\u001b[0m\u001b[0;34m>\u001b[0m\u001b[0;36m4\u001b[0m\u001b[0;34m]\u001b[0m\u001b[0;34m)\u001b[0m\u001b[0;34m\u001b[0m\u001b[0;34m\u001b[0m\u001b[0m\n\u001b[1;32m      5\u001b[0m \u001b[0mplt\u001b[0m\u001b[0;34m.\u001b[0m\u001b[0mcolorbar\u001b[0m\u001b[0;34m(\u001b[0m\u001b[0;34m)\u001b[0m\u001b[0;34m\u001b[0m\u001b[0;34m\u001b[0m\u001b[0m\n",
      "\u001b[0;31mNameError\u001b[0m: name 'x' is not defined"
     ]
    },
    {
     "data": {
      "text/plain": [
       "<Figure size 720x504 with 0 Axes>"
      ]
     },
     "metadata": {},
     "output_type": "display_data"
    }
   ],
   "source": [
    "plt.figure(figsize=(10,7))\n",
    "#range=[[0.0, 2], [-30, 30]]\n",
    "plt.hist2d(np.log(x+x_mean)[(np.log(x+x_mean)>4)&(np.log(x+x_mean)<5.75)],y[(np.log(x+x_mean)>4)&(np.log(x+x_mean)<5.75)], bins=30,)\n",
    "plt.plot(np.log(x+x_mean)[np.log(x+x_mean)>4], regr_xy.predict(np.log(x+x_mean).reshape(-1, 1))[np.log(x+x_mean)>4])\n",
    "plt.colorbar()"
   ]
  },
  {
   "cell_type": "code",
   "execution_count": 69,
   "metadata": {},
   "outputs": [],
   "source": [
    "mask=[(np.log(x+x_mean)>3.69)&(np.log(x+x_mean)<5.58)]"
   ]
  },
  {
   "cell_type": "code",
   "execution_count": 70,
   "metadata": {},
   "outputs": [
    {
     "name": "stderr",
     "output_type": "stream",
     "text": [
      "<ipython-input-70-9022f0f3d347>:1: FutureWarning: Using a non-tuple sequence for multidimensional indexing is deprecated; use `arr[tuple(seq)]` instead of `arr[seq]`. In the future this will be interpreted as an array index, `arr[np.array(seq)]`, which will result either in an error or a different result.\n",
      "  cond_prob, xbounds, ybounds=conditional_p(np.log(x+x_mean)[mask],y[mask])\n"
     ]
    },
    {
     "data": {
      "text/plain": [
       "array([0.72191898])"
      ]
     },
     "execution_count": 70,
     "metadata": {},
     "output_type": "execute_result"
    },
    {
     "data": {
      "image/png": "[encoded data removed]",
      "text/plain": [
       "<Figure size 432x288 with 2 Axes>"
      ]
     },
     "metadata": {
      "needs_background": "light"
     },
     "output_type": "display_data"
    }
   ],
   "source": [
    "cond_prob, xbounds, ybounds=conditional_p(np.log(x+x_mean)[mask],y[mask])\n",
    "regr_xy_cond = LinearRegression(\n",
    "   fit_intercept = True).fit((xbounds[:-1]+(xbounds[1]-xbounds[0])/2).reshape(-1,1), expectation_from_hist(ybounds,cond_prob))\n",
    "regr_xy_cond.coef_"
   ]
  },
  {
   "cell_type": "code",
   "execution_count": null,
   "metadata": {},
   "outputs": [],
   "source": []
  },
  {
   "cell_type": "code",
   "execution_count": null,
   "metadata": {},
   "outputs": [],
   "source": []
  }
 ],
 "metadata": {
  "kernelspec": {
   "display_name": "Python 3",
   "language": "python",
   "name": "python3"
  },
  "language_info": {
   "codemirror_mode": {
    "name": "ipython",
    "version": 3
   },
   "file_extension": ".py",
   "mimetype": "text/x-python",
   "name": "python",
   "nbconvert_exporter": "python",
   "pygments_lexer": "ipython3",
   "version": "3.8.3"
  }
 },
 "nbformat": 4,
 "nbformat_minor": 4
}
