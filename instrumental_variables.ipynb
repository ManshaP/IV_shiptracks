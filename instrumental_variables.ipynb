{
 "cells": [
  {
   "cell_type": "code",
   "execution_count": 40,
   "metadata": {},
   "outputs": [],
   "source": [
    "import numpy as np\n",
    "import matplotlib.pyplot as plt\n",
    "import glob\n",
    "import copy\n",
    "import sys\n",
    "import datetime\n",
    "import iris\n",
    "from pyhdf.SD import SD, SDC\n",
    "import time\n",
    "\n",
    "os.environ['CIS_PLUGIN_HOME'] = '/home/users/pete_nut/plugins/'\n",
    "from cis import read_data, read_data_list, get_variables\n"
   ]
  },
  {
   "cell_type": "code",
   "execution_count": 56,
   "metadata": {},
   "outputs": [],
   "source": [
    "\n",
    "months=['00','01','02','03','04','05','06','07','08','09','10','11','12']\n",
    "modis_month = months[1]\n",
    "days=['01','02','03','04','05','06','07','08','09',\n",
    "      '10','11','12','13','14','15','16','17','18','19',\n",
    "      '20','21','22','23','24','25','26','27','28','29', '30','31']\n",
    "modis_day = days[0]\n",
    "\n",
    "#for modis_day in days:\n",
    "modis_year = '2018'\n",
    "modis_dir = '/gws/nopw/j04/eo_shared_data_vol2/scratch/pete_nut/regrid_modis/'\n",
    "emis_dir=\"/gws/nopw/j04/eo_shared_data_vol2/scratch/pete_nut/Emissions/SOx_allHeights_2018-{}*\"\n",
    "\n"
   ]
  },
  {
   "cell_type": "code",
   "execution_count": 57,
   "metadata": {},
   "outputs": [
    {
     "name": "stdout",
     "output_type": "stream",
     "text": [
      "/neodc/modis/data/MYD06_L2/collection61/2018/02/01/MYD06_L2.A2018032.0500.061.2018032172657.hdf\n",
      "/neodc/modis/data/MYD06_L2/collection61/2018/02/01/MYD06_L2.A2018032.0630.061.2018032194450.hdf\n",
      "/neodc/modis/data/MYD06_L2/collection61/2018/02/01/MYD06_L2.A2018032.0635.061.2018032194358.hdf\n",
      "/neodc/modis/data/MYD06_L2/collection61/2018/02/01/MYD06_L2.A2018032.0640.061.2018032194448.hdf\n",
      "/neodc/modis/data/MYD06_L2/collection61/2018/02/01/MYD06_L2.A2018032.0805.061.2018032194454.hdf\n",
      "/neodc/modis/data/MYD06_L2/collection61/2018/02/01/MYD06_L2.A2018032.0810.061.2018032194355.hdf\n",
      "/neodc/modis/data/MYD06_L2/collection61/2018/02/01/MYD06_L2.A2018032.1840.061.2018033162742.hdf\n",
      "/neodc/modis/data/MYD06_L2/collection61/2018/02/01/MYD06_L2.A2018032.1845.061.2018033163753.hdf\n",
      "/neodc/modis/data/MYD06_L2/collection61/2018/02/01/MYD06_L2.A2018032.1850.061.2018033163352.hdf\n",
      "/neodc/modis/data/MYD06_L2/collection61/2018/02/01/MYD06_L2.A2018032.2020.061.2018033162809.hdf\n",
      "/neodc/modis/data/MYD06_L2/collection61/2018/02/01/MYD06_L2.A2018032.2025.061.2018033163225.hdf\n",
      "Time elapsed:  131.84632015228271\n"
     ]
    }
   ],
   "source": []
  },
  {
   "cell_type": "code",
   "execution_count": 58,
   "metadata": {},
   "outputs": [],
   "source": []
  },
  {
   "cell_type": "code",
   "execution_count": 59,
   "metadata": {},
   "outputs": [],
   "source": []
  },
  {
   "cell_type": "code",
   "execution_count": 60,
   "metadata": {},
   "outputs": [
    {
     "name": "stderr",
     "output_type": "stream",
     "text": [
      "/home/users/pete_nut/miniconda3/lib/python3.8/site-packages/geotiepoints/geointerpolator.py:103: RuntimeWarning: invalid value encountered in arcsin\n",
      "  (90 - rad2deg(arcsin(sqrt(x__ ** 2 + y__ ** 2)\n"
     ]
    },
    {
     "name": "stdout",
     "output_type": "stream",
     "text": [
      "Time elapsed:  607.7044830322266\n"
     ]
    }
   ],
   "source": [
    "t0= time.time()\n",
    "mod_hr=read_data_list(modis_daily,\n",
    "                   ['Cloud_Fraction',\n",
    "                    'Cloud_Top_Temperature'])\n",
    "mod_lr=read_data_list(modis_daily,\n",
    "                      ['Cloud_Effective_Radius','Cloud_Water_Path'], product='MOD06_HACK')\n",
    "t1 = time.time() - t0\n",
    "print(\"Time elapsed: \", t1)"
   ]
  },
  {
   "cell_type": "code",
   "execution_count": null,
   "metadata": {},
   "outputs": [],
   "source": [
    "\n",
    "dat=read_data_list('/gws/nopw/j04/eo_shared_data_vol2/scratch/pete_nut/colloc_emission_modis/'+ modis_month + modis_day+\".nc\",\n",
    "                  ['Cloud_Fraction',\n",
    "                 'Cloud_Top_Temperature',\n",
    "                 'Cloud_Water_Path',\n",
    "                'Cloud_Effective_Radius',\n",
    "                 'SOx'])"
   ]
  }
 ],
 "metadata": {
  "kernelspec": {
   "display_name": "Python 3",
   "language": "python",
   "name": "python3"
  },
  "language_info": {
   "codemirror_mode": {
    "name": "ipython",
    "version": 3
   },
   "file_extension": ".py",
   "mimetype": "text/x-python",
   "name": "python",
   "nbconvert_exporter": "python",
   "pygments_lexer": "ipython3",
   "version": "3.8.3"
  }
 },
 "nbformat": 4,
 "nbformat_minor": 4
}
