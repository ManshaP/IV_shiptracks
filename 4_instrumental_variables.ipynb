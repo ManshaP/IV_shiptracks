{
 "cells": [
  {
   "cell_type": "markdown",
   "metadata": {},
   "source": [
    "# Instrumental Variables\n",
    "This notebook explores regressing effective radii on ship presence and then cloud properties "
   ]
  },
  {
   "cell_type": "code",
   "execution_count": 2,
   "metadata": {},
   "outputs": [],
   "source": [
    "import numpy as np\n",
    "import matplotlib.pyplot as plt\n",
    "import glob\n",
    "import copy\n",
    "import sys\n",
    "import datetime\n",
    "import iris\n",
    "from pyhdf.SD import SD, SDC\n",
    "import time\n",
    "import xarray as xr\n",
    "from matplotlib.colors import LogNorm\n",
    "from sklearn.linear_model import LinearRegression\n",
    "from time_collapse_tools import load_emis, load_modis, coarsened_emis, time_collapse_emis, select_lonlats, select_data, re_diff_emis\n",
    "\n",
    "from cis import read_data, read_data_list, get_variables"
   ]
  },
  {
   "cell_type": "markdown",
   "metadata": {},
   "source": [
    "## Part 1: get data"
   ]
  },
  {
   "cell_type": "code",
   "execution_count": 7,
   "metadata": {},
   "outputs": [
    {
     "name": "stdout",
     "output_type": "stream",
     "text": [
      "0.12199776780100965\n",
      "0.8354962619125674\n",
      "0.8403909137338763\n",
      "0.10190247379302106\n",
      "0.8249974182810004\n",
      "0.8296657736956244\n",
      "0.13413952203873564\n",
      "0.8552655342897679\n",
      "0.8581131654474617\n",
      "0.14488148053653857\n",
      "0.8094168284881386\n",
      "0.8128828790520333\n",
      "0.1193901826224086\n",
      "0.7852086868296144\n",
      "0.7884362764799292\n",
      "0.11321738883927938\n",
      "0.6824250069689539\n",
      "0.6870273513722933\n",
      "0.09168110371769496\n",
      "0.6603870638536021\n",
      "0.6675985022959826\n",
      "0.0855610743269225\n",
      "0.6569948712461953\n",
      "0.6605941892412764\n",
      "0.08721539500975653\n",
      "0.7084373951703968\n",
      "0.7119832934094957\n",
      "0.1579173336515657\n",
      "0.7746612951235002\n",
      "0.7778701383259239\n",
      "0.11819723793189796\n",
      "0.808631108465271\n",
      "0.8130293452018161\n",
      "0.09389501349058403\n",
      "0.8246004606139415\n",
      "0.8306491620566407\n"
     ]
    }
   ],
   "source": [
    "modis_dir='/gws/nopw/j04/eo_shared_data_vol2/scratch/pete_nut/regrid_modis_aqua/'\n",
    "emis_dir='/gws/nopw/j04/eo_shared_data_vol2/scratch/pete_nut/colloc_emission_modis/downsampled_emis/'\n",
    "\n",
    "months=['01','02','03','04','05','06','07','08','09','10','11','12']\n",
    "\n",
    "datlist=[[],[]]\n",
    "for month in months:\n",
    "    da=load_emis(emis_dir, month=month)\n",
    "    datlist[0].append(da)\n",
    "    re=load_modis(modis_dir, month=month)\n",
    "    datlist[1].append(re)"
   ]
  },
  {
   "cell_type": "code",
   "execution_count": 10,
   "metadata": {},
   "outputs": [],
   "source": [
    "comb_da=xr.concat(datlist[0], dim='time')\n",
    "comb_re=xr.concat(datlist[1], dim='time')"
   ]
  },
  {
   "cell_type": "code",
   "execution_count": null,
   "metadata": {},
   "outputs": [],
   "source": []
  },
  {
   "cell_type": "code",
   "execution_count": null,
   "metadata": {},
   "outputs": [],
   "source": []
  }
 ],
 "metadata": {
  "kernelspec": {
   "display_name": "Python 3",
   "language": "python",
   "name": "python3"
  },
  "language_info": {
   "codemirror_mode": {
    "name": "ipython",
    "version": 3
   },
   "file_extension": ".py",
   "mimetype": "text/x-python",
   "name": "python",
   "nbconvert_exporter": "python",
   "pygments_lexer": "ipython3",
   "version": "3.8.3"
  }
 },
 "nbformat": 4,
 "nbformat_minor": 4
}
