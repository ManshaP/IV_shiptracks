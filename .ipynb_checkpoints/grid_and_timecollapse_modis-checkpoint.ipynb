{
 "cells": [
  {
   "cell_type": "code",
   "execution_count": 1,
   "metadata": {},
   "outputs": [],
   "source": [
    "import numpy as np\n",
    "import matplotlib.pyplot as plt\n",
    "import os\n",
    "import glob\n",
    "import copy\n",
    "import sys\n",
    "import datetime\n",
    "import iris\n",
    "from pyhdf.SD import SD, SDC\n",
    "import time\n",
    "from cis.data_io.gridded_data import GriddedDataList\n",
    "\n",
    "os.environ['CIS_PLUGIN_HOME'] = '/home/users/pete_nut/plugins/'\n",
    "from cis import read_data, read_data_list, get_variables\n",
    "\n",
    "#function that checks a list of files for overlap \n",
    "#with the coordinate interval lat=[-35,0], lon=[-90,-70]\n",
    "#and deletes the filenames without overlap\n",
    "\n",
    "def delete_no_overlap(filelist):\n",
    "    delfiles=[]\n",
    "    for filename in filelist:\n",
    "        #print(filename)\n",
    "        dataset = SD(filename, SDC.READ)\n",
    "        lats = dataset.select('Latitude').get()\n",
    "        lons = dataset.select('Longitude').get()\n",
    "        #print(lats.min(), lats.max(), lons.min(), lons.max())\n",
    "        if (lats.max() < -35.  or lats.min() > 0 or lons.max() < -90 or lons.min() > -70 or lons.max()>170 ):\n",
    "            #print(filename)\n",
    "            delfiles.append(filename)\n",
    "        #else: print(filename)\n",
    "    \n",
    "    for filename in delfiles:\n",
    "        filelist.remove(filename)\n",
    "    return filelist\n",
    "\n",
    "months=['00','01','02','03','04','05','06','07','08','09','10','11','12']\n",
    "modis_year = '2018'\n",
    "modis_dir = '/neodc/modis/data/MYD06_L2/collection61/{}/{}/{}/'\n",
    "modis_month = months[9]\n",
    "\n",
    "days=['01','02','03','04','05','06','07','08','09',\n",
    "      '10','11','12','13','14','15','16','17','18','19',\n",
    "      '20','21','22','23','24','25','26','27','28','29', '30','31']\n"
   ]
  },
  {
   "cell_type": "code",
   "execution_count": 2,
   "metadata": {},
   "outputs": [
    {
     "name": "stderr",
     "output_type": "stream",
     "text": [
      "WARNING:root:Identified 540 point(s) which were missing values for some or all coordinates - these points have been removed from the data.\n",
      "WARNING:root:Identified 540 point(s) which were missing values for some or all coordinates - these points have been removed from the data.\n"
     ]
    }
   ],
   "source": [
    "modis_day='08'\n",
    "modis_daily = sorted(glob.glob(modis_dir.format(modis_year, modis_month, modis_day) + '*.hdf'))\n",
    "end_day = glob.glob(modis_dir.format(modis_year, modis_month, modis_day) + '*.2355.*.hdf')[0]\n",
    "end_day = modis_daily.index(end_day)\n",
    "start_time=glob.glob(modis_dir.format(modis_year, modis_month, modis_day) + '*.1500.*.hdf')[0]\n",
    "start_time=modis_daily.index(start_time)\n",
    "modis_daily = modis_daily[start_time:end_day]\n",
    "modis_daily=delete_no_overlap(modis_daily)\n",
    "\n",
    "\n",
    "#get data, need to do seperately because of different resolution\n",
    "mod_hr=read_data_list(modis_daily,\n",
    "                   ['Cloud_Fraction',\n",
    "                    'Cloud_Top_Temperature'])"
   ]
  },
  {
   "cell_type": "code",
   "execution_count": null,
   "metadata": {},
   "outputs": [],
   "source": [
    "mod_lr=read_data_list(modis_daily,\n",
    "                          ['Cloud_Effective_Radius','Cloud_Water_Path'], product='MOD06_HACK')"
   ]
  },
  {
   "cell_type": "code",
   "execution_count": null,
   "metadata": {},
   "outputs": [],
   "source": [
    "agg_mod_lr=mod_lr.aggregate(x=[-90.05,-69.95,0.1], y=[-35.05,0.05,0.1])\n",
    "agg_mod_hr=mod_hr.aggregate(x=[-90.05,-69.95,0.1], y=[-35.05,0.05,0.1])\n",
    "\n",
    "\n",
    "\n",
    "#add the two datasets together and save\n",
    "all_data=GriddedDataList([agg_mod_hr[0],agg_mod_hr[3], agg_mod_lr[0], agg_mod_lr[3]])\n",
    "all_data.save_data('/gws/nopw/j04/eo_shared_data_vol2/scratch/pete_nut/regrid_modis/'+modis_year+ modis_month + modis_day+\".nc\")\n",
    "\n",
    "    "
   ]
  },
  {
   "cell_type": "code",
   "execution_count": 23,
   "metadata": {},
   "outputs": [],
   "source": [
    "data=SD(modis_daily[0], SDC.READ)"
   ]
  },
  {
   "cell_type": "code",
   "execution_count": 39,
   "metadata": {},
   "outputs": [
    {
     "data": {
      "text/plain": [
       "{'valid_range': [0, 10000],\n",
       " '_FillValue': -9999,\n",
       " 'long_name': 'Cloud Particle Effective Radius two-channel retrieval using band 7(2.1um) and either band 1(0.65um), 2(0.86um), or 5(1.2um)  (specified in Quality_Assurance_1km)from best points: not failed in any way, not marked for clear sky restoral',\n",
       " 'units': 'micron',\n",
       " 'scale_factor': 0.009999999776482582,\n",
       " 'add_offset': 0.0,\n",
       " 'Parameter_Type': 'Output',\n",
       " 'Cell_Along_Swath_Sampling': [1, 2030, 1],\n",
       " 'Cell_Across_Swath_Sampling': [1, 1354, 1],\n",
       " 'Geolocation_Pointer': 'External MODIS geolocation product'}"
      ]
     },
     "execution_count": 39,
     "metadata": {},
     "output_type": "execute_result"
    }
   ],
   "source": [
    "data.select('Cloud_Effective_Radius').attributes()"
   ]
  },
  {
   "cell_type": "code",
   "execution_count": null,
   "metadata": {},
   "outputs": [],
   "source": [
    "\n",
    "#modis_day = days[0]\n",
    "for modis_day in days:\n",
    "    print('gridding for day {}/{}/{}'.format(modis_day, modis_month, modis_year))\n",
    "    #ROI is UTC-5 so there is no daylight before ~1200 UTC --> Overpass time for Terra is around 1800 UTC\n",
    "    #make a list of MODIS files on the day, check for overlap and delete those without \n",
    "    modis_daily = sorted(glob.glob(modis_dir.format(modis_year, modis_month, modis_day) + '*.hdf'))\n",
    "    end_day = glob.glob(modis_dir.format(modis_year, modis_month, modis_day) + '*.2355.*.hdf')[0]\n",
    "    end_day = modis_daily.index(end_day)\n",
    "    start_time=glob.glob(modis_dir.format(modis_year, modis_month, modis_day) + '*.1500.*.hdf')[0]\n",
    "    start_time=modis_daily.index(start_time)\n",
    "    modis_daily = modis_daily[start_time:end_day]\n",
    "    modis_daily=delete_no_overlap(modis_daily)\n",
    "\n",
    "    \n",
    "    #get data, need to do seperately because of different resolution\n",
    "    mod_hr=read_data_list(modis_daily,\n",
    "                       ['Cloud_Fraction',\n",
    "                        'Cloud_Top_Temperature'])\n",
    "    mod_lr=read_data_list(modis_daily,\n",
    "                          ['Cloud_Effective_Radius','Cloud_Water_Path'], product='MOD06_HACK')\n",
    "    \n",
    "    \n",
    "    #grid ungridded data to 0.1 deg grid, time dimension is collapsed (taking a mean?)\n",
    "    agg_mod_lr=mod_lr.aggregate(x=[-90.0,-70.,0.1], y=[-35.,0.,0.1])\n",
    "    agg_mod_hr=mod_hr.aggregate(x=[-90.0,-70.,0.1], y=[-35.,0.0,0.1])\n",
    "    \n",
    "    \n",
    "    #add the two datasets together and save\n",
    "    all_data=GriddedDataList([agg_mod_hr[0],agg_mod_hr[3], agg_mod_lr[0], agg_mod_lr[3]])\n",
    "    all_data.save_data('/gws/nopw/j04/eo_shared_data_vol2/scratch/pete_nut/regrid_modis/'+modis_year+ modis_month + modis_day+\".nc\")\n",
    "   \n",
    "    "
   ]
  },
  {
   "cell_type": "code",
   "execution_count": null,
   "metadata": {},
   "outputs": [],
   "source": []
  },
  {
   "cell_type": "code",
   "execution_count": null,
   "metadata": {},
   "outputs": [],
   "source": []
  }
 ],
 "metadata": {
  "kernelspec": {
   "display_name": "Python 3",
   "language": "python",
   "name": "python3"
  },
  "language_info": {
   "codemirror_mode": {
    "name": "ipython",
    "version": 3
   },
   "file_extension": ".py",
   "mimetype": "text/x-python",
   "name": "python",
   "nbconvert_exporter": "python",
   "pygments_lexer": "ipython3",
   "version": "3.8.3"
  }
 },
 "nbformat": 4,
 "nbformat_minor": 4
}
