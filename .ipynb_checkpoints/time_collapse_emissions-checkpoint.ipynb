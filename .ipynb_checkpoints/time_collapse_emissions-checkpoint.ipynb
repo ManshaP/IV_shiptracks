{
 "cells": [
  {
   "cell_type": "code",
   "execution_count": null,
   "metadata": {},
   "outputs": [],
   "source": [
    "import numpy as np\n",
    "import matplotlib.pyplot as plt\n",
    "import glob\n",
    "import copy\n",
    "import sys\n",
    "import datetime\n",
    "import iris\n",
    "from pyhdf.SD import SD, SDC\n",
    "import time\n",
    "import xarray as xr\n",
    "from matplotlib.colors import LogNorm\n",
    "from sklearn.linear_model import LinearRegression\n",
    "\n",
    "\n",
    "from cis import read_data, read_data_list, get_variables"
   ]
  },
  {
   "cell_type": "code",
   "execution_count": null,
   "metadata": {},
   "outputs": [],
   "source": [
    "\n",
    "def load_emis(emis_dir, month, crop_max=10):\n",
    "    filelist=glob.glob(emis_dir + month + \".nc\")\n",
    "    da=xr.open_mfdataset(filelist)\n",
    "    da['SOx']=xr.where(da['SOx']<0, 0, da['SOx'])\n",
    "    da['SOx']=xr.where(da['SOx']>crop_max, 0, da['SOx'])\n",
    "    return da['SOx'].transpose('latitude', 'longitude', 'time')\n",
    "\n",
    "def load_modis(modis_dir, month, crop_max=100):\n",
    "    filelist=glob.glob(modis_dir + '2018' + month + \"*.nc\")\n",
    "    ds=xr.open_mfdataset(filelist)\n",
    "    #print('loading done, starting to process')\n",
    "\n",
    "    re=ds['Cloud_Effective_Radius'].where(ds['Cloud_Top_Temperature'] > 272.15-15, np.nan)\n",
    "    \n",
    "    print(np.isnan(re).values.sum()/(np.logical_not(np.isnan(re)).values.sum()+np.isnan(re).values.sum()))\n",
    "    re=re.where(ds['Cloud_Effective_Radius_Uncertainty']<10, np.nan)\n",
    "    print(np.isnan(re).values.sum()/(np.logical_not(np.isnan(re)).values.sum()+np.isnan(re).values.sum()))\n",
    "    re=xr.where(re>1000, np.nan, re)\n",
    "    re=xr.where(re<4, np.nan, re)\n",
    "    print(np.isnan(re).values.sum()/(np.logical_not(np.isnan(re)).values.sum()+np.isnan(re).values.sum()))\n",
    "    \n",
    "    return re\n",
    "\n",
    "\n",
    "def coarsened_emis(emis, window_size=3):\n",
    "    emis_coarsened=emis.rolling(latitude=window_size, longitude=window_size,\n",
    "                                min_periods=1, center=True).reduce(np.mean)\n",
    "    return emis_coarsened\n",
    "\n",
    "#expects one variable xr.DaraArray, returns this array filtered for those values that occur \n",
    "#'hours' before the modis overpass which is around 18-19h UTC\n",
    "def time_collapse_emis(da, hours, overpass_hour=19):\n",
    "    days_in_month=len(da.time.values)//24\n",
    "    hours_ind=[]\n",
    "    #print(da.isel(time=slice(24+hours_ind[0].astype(int),hours_ind[-1].astype(int))))\n",
    "    if overpass_hour-hours<0:\n",
    "        for i in range(days_in_month-1):\n",
    "            for j in range(hours):\n",
    "                hours_ind=np.append(hours_ind,(i+1)*24+overpass_hour-hours+j)\n",
    "        emis=da.isel(time=hours_ind.astype(int))\n",
    "        #print(emis.time)\n",
    "        emis=emis.resample(time='24H', base=24+overpass_hour-hours, closed='left')\n",
    "        #print(\"Caution: No data for the first day of the month\")\n",
    "    elif overpass_hour>24:\n",
    "        for i in range(days_in_month-1):\n",
    "            for j in range(hours):\n",
    "                hours_ind=np.append(hours_ind,i*24+overpass_hour-hours+j)\n",
    "        emis=da.isel(time=hours_ind.astype(int))\n",
    "        #print(emis.isel(time=0).mean().values)\n",
    "        emis=emis.resample(time='24H', base=overpass_hour-hours, closed='left')\n",
    "        #print(\"Caution: No data for the first day of the month\")\n",
    "    else:\n",
    "        for i in range(days_in_month):\n",
    "            for j in range(hours):\n",
    "                hours_ind=np.append(hours_ind,i*24+overpass_hour-hours+j)\n",
    "        emis=da.isel(time=hours_ind.astype(int))\n",
    "        #print(emis.isel(time=0).mean().values)\n",
    "        emis=emis.resample(time='24H', base=overpass_hour-hours, closed='left')\n",
    "\n",
    "    emis=emis.reduce(np.mean)\n",
    "    return emis"
   ]
  },
  {
   "cell_type": "code",
   "execution_count": null,
   "metadata": {},
   "outputs": [],
   "source": [
    "def select_lonlats(emissions_da, r_eff_da, lats, lons):\n",
    "    emis=emissions_da.sel(longitude=lons,latitude=lats)\n",
    "    re=r_eff_da.sel(longitude=lons,latitude=lats)\n",
    "    return re, emis\n",
    "\n",
    "def select_data(r_eff_da,emissions_da, \n",
    "                lats=slice(-35,0), lons=slice(-90,-70), \n",
    "                coarsening=3, \n",
    "                end_h=19, emis_h=1):\n",
    "    \n",
    "    re, emis=select_lonlats(emissions_da, r_eff_da, lats, lons)\n",
    "    #print(re.mean().values)\n",
    "    emis=time_collapse_emis(emis, emis_h, overpass_hour=end_h)\n",
    "    \n",
    "    # if the emis collapse does not reach into the day before, we need to \n",
    "    if end_h-emis_h>=0: emis=emis.isel(time=slice(1, len(emis.time)))\n",
    "    # if the end_hour of emission collapse is after midnight, everything good,\n",
    "    # because we get rid of the last modis day anyway. If not, we need to get rid of the last emis day\n",
    "    if end_h<=24: emis=emis.isel(time=slice(0, len(emis.time)-1))\n",
    "    \n",
    "    #always crop the first day of sat_image\n",
    "    re=re.isel(time=slice(1, len(re.time)-1))\n",
    "    #print(re.mean().values)\n",
    "    emis=coarsened_emis(emis, window_size=coarsening)\n",
    "    #print(re.mean().values)\n",
    "\n",
    "    \n",
    "    return re, emis"
   ]
  },
  {
   "cell_type": "code",
   "execution_count": null,
   "metadata": {},
   "outputs": [],
   "source": [
    "# returns the effect of pollution on the size of cloud droplets \n",
    "def re_diff_emis(threshold, re, emis):\n",
    "    \n",
    "    #print(\"division middle\")\n",
    "    prist=np.where(emis > threshold, np.nan, re)\n",
    "\n",
    "    #prist=np.where(emis == 0., np.nan, prist)\n",
    "    re_prist=np.nanmean(prist)\n",
    "    pristpoints=np.logical_not(np.isnan(prist)).sum()\n",
    "\n",
    "#     s=np.shape(re)\n",
    "#     x=np.random.rand(s[0],s[1],s[2])\n",
    "#     poll=np.where(x <= 0.02, np.nan, re)\n",
    "    poll=np.where(emis <= threshold, np.nan, re)\n",
    "    re_poll=np.nanmean(poll)\n",
    "    re_pollvar=np.nanvar(poll)\n",
    "    pollpoints=np.logical_not(np.isnan(poll)).sum()\n",
    "    \n",
    "    return re_prist,re_poll, pollpoints, pristpoints, re_pollvar\n",
    "\n",
    "def re_diff_emis2(threshold, re, emis):\n",
    "    \n",
    "    #print(\"division middle\")\n",
    "    prist=np.where(emis > threshold, np.nan, re)\n",
    "    poll=np.where(emis <= threshold, np.nan, re)\n",
    "    \n",
    "    re_prist=[]\n",
    "    pristpoints=[]\n",
    "    re_poll=[]\n",
    "    re_pollvar=[]\n",
    "    pollpoints=[]\n",
    "    \n",
    "    for d in range(np.shape(prist)[2]):\n",
    "        re_prist.append(np.nanmean(prist[:,:,d]))\n",
    "        pristpoints.append(np.logical_not(np.isnan(prist[:,:,d])).sum())\n",
    "        \n",
    "        re_poll.append(np.nanmean(poll[:,:,d]))\n",
    "        re_pollvar.append(np.nanvar(poll[:,:,d]))\n",
    "        pollpoints.append(np.logical_not(np.isnan(poll[:,:,d])).sum())\n",
    "    \n",
    "    return re_prist,re_poll, pollpoints, pristpoints, re_pollvar\n",
    "\n",
    "\n",
    "# returns a list values of mean droplet sizes in different emission bins \n",
    "def re_emis_bins(re, emis, up_to=1, bins=20):\n",
    "    binsize=up_to/bins\n",
    "    re_mean=[]\n",
    "    for i in range(bins):\n",
    "        ra=np.where(emis < i*binsize, np.nan, re)\n",
    "        #print(ra)\n",
    "        ra=np.where(emis >= (i+1)*binsize, np.nan, ra)\n",
    "        ra_mean=np.nanmean(ra)\n",
    "        ra_points=np.nansum(ra)/ra_mean\n",
    "        re_mean.append([i*binsize ,ra_mean, ra_points])\n",
    "    return np.transpose(re_mean)"
   ]
  },
  {
   "cell_type": "code",
   "execution_count": null,
   "metadata": {},
   "outputs": [],
   "source": [
    "# hour_poll_prist=np.array(hour_poll_prist)\n",
    "# hour_poll_prist[:,1,:]=np.where(hour_poll_prist[:,2,:]>20, hour_poll_prist[:,1,:], np.nan )\n",
    "# plt.figure(figsize=(20, 10))\n",
    "# for day in range(np.shape(hour_poll_prist)[2]):\n",
    "#     plt.plot(np.linspace(-21, 48, 24), hour_poll_prist[:,1,day], c = plt.cm.viridis(day/np.shape(hour_poll_prist)[2]) )\n",
    "# plt.plot(np.linspace(-21, 48, 24), np.nanmean(hour_poll_prist[:,1,:], axis=1))"
   ]
  },
  {
   "cell_type": "code",
   "execution_count": null,
   "metadata": {},
   "outputs": [],
   "source": [
    "modis_dir='/gws/nopw/j04/eo_shared_data_vol2/scratch/pete_nut/regrid_modis_aqua/'\n",
    "emis_dir='/gws/nopw/j04/eo_shared_data_vol2/scratch/pete_nut/colloc_emission_modis/downsampled_emis/'\n",
    "save_dir='/gws/nopw/j04/eo_shared_data_vol2/scratch/pete_nut/colloc_emission_modis/ds_timecoll_emis/'"
   ]
  },
  {
   "cell_type": "code",
   "execution_count": null,
   "metadata": {},
   "outputs": [],
   "source": [
    "filelist=glob.glob(modis_dir + '2018' + '09' + \"*.nc\")\n",
    "ds=xr.open_mfdataset(filelist)\n",
    "ds['Cloud_Effective_Radius_Uncertainty'].where(ds['Cloud_Effective_Radius_Uncertainty']<20).plot()"
   ]
  },
  {
   "cell_type": "code",
   "execution_count": null,
   "metadata": {},
   "outputs": [],
   "source": [
    "# dah=load_emis(emis_dir, month='03')\n",
    "# reh=load_modis(modis_dir, month='03')\n",
    "# dai=load_emis(emis_dir, month='04')\n",
    "# rei=load_modis(modis_dir, month='04')\n",
    "# daj=load_emis(emis_dir, month='05')\n",
    "# rej=load_modis(modis_dir, month='05')\n",
    "# dak=load_emis(emis_dir, month='06')\n",
    "# rek=load_modis(modis_dir, month='06')\n",
    "dam=load_emis(emis_dir, month='07')\n",
    "rem=load_modis(modis_dir, month='07')\n",
    "da0=load_emis(emis_dir, month='08')\n",
    "re0=load_modis(modis_dir, month='08')\n",
    "da=load_emis(emis_dir, month='09')\n",
    "re=load_modis(modis_dir, month='09')\n",
    "da2=load_emis(emis_dir, month='10')\n",
    "re2=load_modis(modis_dir, month='10')\n",
    "da3=load_emis(emis_dir, month='11')\n",
    "re3=load_modis(modis_dir, month='11')"
   ]
  },
  {
   "cell_type": "code",
   "execution_count": null,
   "metadata": {},
   "outputs": [],
   "source": [
    "# comb_da=xr.concat([dah,dai,daj,dak,dam,da0,da, da2, da3], dim='time')\n",
    "# comb_re=xr.concat([reh,rei,rej,rek,rem,re0,re, re2, re3], dim='time')\n",
    "comb_da=xr.concat([dam,da0,da, da2, da3], dim='time')\n",
    "comb_re=xr.concat([rem,re0,re, re2, re3], dim='time')"
   ]
  },
  {
   "cell_type": "code",
   "execution_count": null,
   "metadata": {},
   "outputs": [],
   "source": [
    "if len(comb_re.coords['time'].values)-len(comb_da.coords['time'].values)/24 > 0: print('Caution! Array lenghts do not match')"
   ]
  },
  {
   "cell_type": "code",
   "execution_count": null,
   "metadata": {},
   "outputs": [],
   "source": [
    "# comb_da=xr.concat([da, da2], dim='time')\n",
    "# comb_re=xr.concat([re, re2], dim='time')"
   ]
  },
  {
   "cell_type": "code",
   "execution_count": null,
   "metadata": {},
   "outputs": [],
   "source": [
    "# mask_re=(\n",
    "#         (comb_re.coords['time']==np.datetime64('2018-09-03T19:02:40.063975000'))\n",
    "#       & (comb_re.coords['longitude'] < -74.95)\n",
    "#       & (comb_re.coords['longitude'] > -75.05)\n",
    "#       & (comb_re.coords['latitude'] < -24.95)\n",
    "#       & (comb_re.coords['latitude'] > -25.05)\n",
    "#      )\n",
    "# manip_re=comb_re.where(np.logical_not(mask_re), 1e8)\n",
    "# #manip_re.sel(latitude=slice(-26,-24)).mean('time').plot()\n",
    "# mask_emis=(\n",
    "#         (comb_da.coords['time']==np.datetime64('2018-09-02T16:00:00.000000000'))\n",
    "#       & (comb_da.coords['longitude'] < -74.95)\n",
    "#       & (comb_da.coords['longitude'] > -75.05)\n",
    "#       & (comb_da.coords['latitude'] < -24.95)\n",
    "#       & (comb_da.coords['latitude'] > -25.05)\n",
    "#      )\n",
    "# manip_emis=comb_da.where(np.logical_not(mask_emis), 1e8)\n",
    "# #manip_emis.sel(latitude=slice(-26,-24)).mean('time').plot()"
   ]
  },
  {
   "cell_type": "code",
   "execution_count": null,
   "metadata": {},
   "outputs": [],
   "source": [
    "# comb_re.coords['time']"
   ]
  },
  {
   "cell_type": "code",
   "execution_count": null,
   "metadata": {},
   "outputs": [],
   "source": [
    "month='10'"
   ]
  },
  {
   "cell_type": "code",
   "execution_count": null,
   "metadata": {},
   "outputs": [],
   "source": [
    "fig=plt.figure(figsize=(15,25))\n",
    "ax1=fig.add_subplot(1,2,2)\n",
    "f1=ax1.imshow(comb_re.mean('time').values,origin='lower')\n",
    "fig.colorbar(f1,ax=ax1,shrink=0.4)\n",
    "ax1.set_title('Effective Radius over month {}/2018'.format(month))\n",
    "day=4\n",
    "ax2=fig.add_subplot(1,2,1)\n",
    "f2=ax2.imshow(da.groupby('time.day').reduce(np.mean).isel(day=day).values, vmax=0.1, origin='lower')\n",
    "f2=ax2.imshow(re.isel(time=day).values, origin='lower', alpha=0.7)\n",
    "fig.colorbar(f2,ax=ax2,shrink=0.4)\n",
    "ax2.set_title('Effective Radius in single day')"
   ]
  },
  {
   "cell_type": "code",
   "execution_count": null,
   "metadata": {},
   "outputs": [],
   "source": [
    "day=9\n",
    "fig=plt.figure(figsize=(10,20))\n",
    "ax2=fig.add_subplot(1,1,1)\n",
    "f2=ax2.imshow(time_collapse_emis(da, hours=15, overpass_hour=18).isel(time=day).values, vmax=0.1, origin='lower')\n",
    "f2=ax2.imshow(re.isel(time=day).values, origin='lower', alpha=0.7)\n",
    "fig.colorbar(f2,ax=ax2,shrink=0.4)\n",
    "ax2.set_title('Effective Radius in single day')"
   ]
  },
  {
   "cell_type": "code",
   "execution_count": null,
   "metadata": {},
   "outputs": [],
   "source": [
    "coarse_emis=coarsened_emis(da)"
   ]
  },
  {
   "cell_type": "code",
   "execution_count": null,
   "metadata": {},
   "outputs": [],
   "source": [
    "plt.figure(figsize=(5,10))\n",
    "re_adj=comb_re-comb_re.mean('time')\n",
    "re_adj.isel(time=8).plot()\n",
    "plt.axes().set_aspect('equal')"
   ]
  },
  {
   "cell_type": "code",
   "execution_count": null,
   "metadata": {
    "scrolled": false
   },
   "outputs": [],
   "source": [
    "fig=plt.figure(figsize=(15,25))\n",
    "ax1=fig.add_subplot(1,2,2)\n",
    "f1=ax1.imshow(coarse_emis.mean('time').values, vmax=0.1, origin='lower')\n",
    "fig.colorbar(f1,ax=ax1, shrink=0.4)\n",
    "ax1.set_title('Mean SOx emssions over month {}/2018'.format(month))\n",
    "\n",
    "ax2=fig.add_subplot(1,2,1)\n",
    "f2=ax2.imshow(coarse_emis.isel(time=1).values, vmax=0.1, origin='lower')\n",
    "fig.colorbar(f2,ax=ax2,shrink=0.4)\n",
    "ax2.set_title('Mean SOx Emissions in single hour')"
   ]
  },
  {
   "cell_type": "code",
   "execution_count": null,
   "metadata": {
    "scrolled": true
   },
   "outputs": [],
   "source": [
    "adj_re=comb_re-comb_re.isel(time=slice(1,len(comb_re.time)-1)).mean('time')\n",
    "#lats=slice(-35,-17), lons=slice(-77.5,-72.5)\n",
    "hour_poll_prist=[]\n",
    "for hour in np.linspace(-21, 48, 24):\n",
    "    print(hour)\n",
    "    re_sel, emis_sel=select_data(adj_re,comb_da, emis_h=3,end_h=hour,lats=slice(-35,-17), lons=slice(-77.5,-72.5), coarsening=1)\n",
    "    re_prist,re_poll, pollpoints, pristpoints, re_pollvar=re_diff_emis(0.0,re_sel, emis_sel)\n",
    "    hour_poll_prist.append([hour-19, re_prist,re_poll, pollpoints, re_pollvar])"
   ]
  },
  {
   "cell_type": "code",
   "execution_count": null,
   "metadata": {},
   "outputs": [],
   "source": [
    "np.linspace(-21, 48, 24)"
   ]
  },
  {
   "cell_type": "code",
   "execution_count": null,
   "metadata": {},
   "outputs": [],
   "source": [
    "plt.figure(figsize=(10,7))\n",
    "arr=np.transpose(hour_poll_prist)\n",
    "plt.plot(arr[0], arr[1])\n",
    "plt.errorbar(arr[0], arr[2], np.sqrt(arr[4]/arr[3]))\n",
    "plt.legend(['pristine', 'polluted'])\n",
    "plt.xlabel('hours since overpass')\n",
    "plt.ylabel('r_eff')"
   ]
  },
  {
   "cell_type": "code",
   "execution_count": null,
   "metadata": {},
   "outputs": [],
   "source": [
    "fig=plt.figure(figsize=(15,7))\n",
    "ax1=fig.add_subplot(1,2,1)\n",
    "ax1.plot(arr[0], arr[1])\n",
    "ax1.errorbar(arr[0], arr[2], np.sqrt(arr[4]/arr[3]))\n",
    "ax1.legend(['pristine', 'polluted'])\n",
    "ax1.set_xlabel('hours since overpass')\n",
    "ax1.set_ylabel('r_eff')\n",
    "\n",
    "ax2=fig.add_subplot(1,2,2)\n",
    "comb_da.sel(latitude=slice(-35,-17), longitude=slice(-77.5,-72.5)).mean('time').plot()\n",
    "ax2.set_aspect('equal')\n",
    "ax2.set_title('Mean SOx Emissions in observation period')\n"
   ]
  },
  {
   "cell_type": "code",
   "execution_count": null,
   "metadata": {},
   "outputs": [],
   "source": [
    "relate,emlate=select_data(adj_re,comb_da, emis_h=10,end_h=47,lats=slice(-35,-17), lons=slice(-77.5,-72.5))"
   ]
  },
  {
   "cell_type": "code",
   "execution_count": null,
   "metadata": {},
   "outputs": [],
   "source": [
    "reearl,emearl=select_data(adj_re,comb_da, emis_h=10,end_h=19,lats=slice(-35,-17), lons=slice(-77.5,-72.5))"
   ]
  },
  {
   "cell_type": "code",
   "execution_count": null,
   "metadata": {},
   "outputs": [],
   "source": [
    "(emearl.mean('time')-emlate.mean('time')).plot()\n",
    "plt.axes().set_aspect('equal')"
   ]
  },
  {
   "cell_type": "code",
   "execution_count": null,
   "metadata": {},
   "outputs": [],
   "source": [
    "arr=np.transpose(hour_poll_prist)\n",
    "plt.plot(arr[0], arr[3])\n",
    "plt.xlabel('hours since overpass')\n",
    "plt.ylabel('r_eff')"
   ]
  },
  {
   "cell_type": "code",
   "execution_count": null,
   "metadata": {},
   "outputs": [],
   "source": [
    "re_sel, emis_sel=select_data(adj_re,comb_da, \n",
    "                             emis_h=20,end_h=29,\n",
    "                             lats=slice(-35,-17), lons=slice(-77.5,-72.5),\n",
    "                             coarsening=1)"
   ]
  },
  {
   "cell_type": "code",
   "execution_count": null,
   "metadata": {},
   "outputs": [],
   "source": [
    "X=emis_sel.values.flatten()\n",
    "Y=re_sel.values.flatten()"
   ]
  },
  {
   "cell_type": "code",
   "execution_count": null,
   "metadata": {
    "scrolled": true
   },
   "outputs": [],
   "source": [
    "plt.figure(figsize=(10,7))\n",
    "#range=[[0.0, 2], [-30, 30]]\n",
    "plt.hist2d(X,Y, bins=30,range=[[0.0, 2], [-30, 30]],norm=LogNorm())\n",
    "plt.ylabel('r_eff')\n",
    "plt.xlabel('emissions in the past 7h')\n",
    "plt.colorbar()"
   ]
  },
  {
   "cell_type": "code",
   "execution_count": null,
   "metadata": {},
   "outputs": [],
   "source": [
    "X=X[np.logical_not(np.isnan(Y))]\n",
    "Y=Y[np.logical_not(np.isnan(Y))]"
   ]
  },
  {
   "cell_type": "code",
   "execution_count": null,
   "metadata": {},
   "outputs": [],
   "source": [
    "X_t=np.where(X>0.0, 1, 0)\n",
    "n=len(Y)\n",
    "regr = LinearRegression(\n",
    "   fit_intercept = True).fit(X_t.reshape(-1, 1),Y)\n",
    "print(regr.coef_)\n",
    "RSS_2=((regr.predict(X_t.reshape(-1, 1)) - Y) ** 2).sum()\n",
    "RSS_1=((Y-np.mean(Y))**2).sum()\n",
    "F=((RSS_1-RSS_2)/1)/(RSS_2/(n-2))\n",
    "F"
   ]
  },
  {
   "cell_type": "code",
   "execution_count": null,
   "metadata": {},
   "outputs": [],
   "source": []
  },
  {
   "cell_type": "code",
   "execution_count": null,
   "metadata": {},
   "outputs": [],
   "source": []
  },
  {
   "cell_type": "code",
   "execution_count": null,
   "metadata": {},
   "outputs": [],
   "source": []
  },
  {
   "cell_type": "code",
   "execution_count": null,
   "metadata": {},
   "outputs": [],
   "source": [
    "re_diff_emis(0.0,re,emis)"
   ]
  },
  {
   "cell_type": "code",
   "execution_count": null,
   "metadata": {},
   "outputs": [],
   "source": [
    "re_mean=re_emis_bins(re, emis, 0.5, 20)"
   ]
  },
  {
   "cell_type": "code",
   "execution_count": null,
   "metadata": {},
   "outputs": [],
   "source": [
    "fig=plt.figure(figsize=(20,6))\n",
    "\n",
    "ax1=fig.add_subplot(1,2,1)\n",
    "ax1.plot(re_mean[0],re_mean[1])\n",
    "plt.xlabel('emissions')\n",
    "plt.ylabel('r_eff')\n",
    "\n",
    "\n",
    "\n",
    "ax2=fig.add_subplot(1,2,2, sharex=ax1)\n",
    "ax2.plot(re_mean[0],np.log10(re_mean[2]))\n",
    "plt.xlabel('emissions')\n",
    "plt.ylabel('log(n points)')"
   ]
  },
  {
   "cell_type": "code",
   "execution_count": null,
   "metadata": {},
   "outputs": [],
   "source": [
    "# def pop_history_callback(cube, field, filename):\n",
    "#     cube.attributes.pop(\"history\")\n",
    "#     return cube\n",
    "\n",
    "# dati=iris.load('/gws/nopw/j04/eo_shared_data_vol2/scratch/pete_nut/regrid_modis/*.nc',\n",
    "#                   ['Cloud_Top_Temperature',\n",
    "#                 'Cloud_Effective_Radius'])\n",
    "#collocate instead of merge"
   ]
  },
  {
   "cell_type": "code",
   "execution_count": null,
   "metadata": {},
   "outputs": [],
   "source": [
    "#emis_plus_cloud=xr.merge([re._to_temp_dataset(), emis_coarsened._to_temp_dataset()])"
   ]
  },
  {
   "cell_type": "code",
   "execution_count": null,
   "metadata": {},
   "outputs": [],
   "source": [
    "# emis_plus_cloud.plot.scatter(x='SOx', y='Cloud_Effective_Radius')"
   ]
  },
  {
   "cell_type": "code",
   "execution_count": null,
   "metadata": {},
   "outputs": [],
   "source": []
  },
  {
   "cell_type": "code",
   "execution_count": null,
   "metadata": {},
   "outputs": [],
   "source": []
  },
  {
   "cell_type": "code",
   "execution_count": null,
   "metadata": {},
   "outputs": [],
   "source": []
  },
  {
   "cell_type": "code",
   "execution_count": null,
   "metadata": {},
   "outputs": [],
   "source": [
    "fig=plt.figure(figsize=(20,6))\n",
    "\n",
    "ax1=fig.add_subplot(1,2,1)\n",
    "ax1.plot(re_mean[0],re_mean[1])\n",
    "\n",
    "\n",
    "ax2=fig.add_subplot(1,2,2, sharex=ax1)\n",
    "ax2.plot(re_mean[0],np.log10(re_mean[2]))"
   ]
  },
  {
   "cell_type": "code",
   "execution_count": null,
   "metadata": {},
   "outputs": [],
   "source": [
    "for threshold in np.linspace(0,1,20):\n",
    "    print(threshold)\n",
    "    print(re_diff_emis(threshold, re.sel(longitude=slice(-90,-72.5),latitude=slice(-35,-18)), emis_coarsened.sel(longitude=slice(-90,-72.5),latitude=slice(-35,-18))))"
   ]
  },
  {
   "cell_type": "code",
   "execution_count": null,
   "metadata": {},
   "outputs": [],
   "source": [
    "#different time-windows\n",
    "#coarser resolution\n",
    "#spreading with time\n",
    "#discounting with time"
   ]
  },
  {
   "cell_type": "code",
   "execution_count": null,
   "metadata": {},
   "outputs": [],
   "source": []
  }
 ],
 "metadata": {
  "kernelspec": {
   "display_name": "Python 3",
   "language": "python",
   "name": "python3"
  },
  "language_info": {
   "codemirror_mode": {
    "name": "ipython",
    "version": 3
   },
   "file_extension": ".py",
   "mimetype": "text/x-python",
   "name": "python",
   "nbconvert_exporter": "python",
   "pygments_lexer": "ipython3",
   "version": "3.8.3"
  }
 },
 "nbformat": 4,
 "nbformat_minor": 4
}
